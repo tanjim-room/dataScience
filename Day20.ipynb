{
 "cells": [
  {
   "cell_type": "code",
   "execution_count": 5,
   "id": "118a573a-8a00-42a0-8e6f-cb8b52b15a4c",
   "metadata": {},
   "outputs": [],
   "source": [
    "import array\n",
    "ar1 = array.array('i',[1,2,3,4,5])"
   ]
  },
  {
   "cell_type": "code",
   "execution_count": 6,
   "id": "4bc7710f-e529-4306-94ed-692a03cc7063",
   "metadata": {},
   "outputs": [
    {
     "data": {
      "text/plain": [
       "array('i', [1, 2, 3, 4, 5])"
      ]
     },
     "execution_count": 6,
     "metadata": {},
     "output_type": "execute_result"
    }
   ],
   "source": [
    "ar1"
   ]
  },
  {
   "cell_type": "code",
   "execution_count": 7,
   "id": "ff2d4608-ebc1-4dfa-84f4-6416ee1eea30",
   "metadata": {},
   "outputs": [
    {
     "data": {
      "text/plain": [
       "1"
      ]
     },
     "execution_count": 7,
     "metadata": {},
     "output_type": "execute_result"
    }
   ],
   "source": [
    "ar1[0]"
   ]
  },
  {
   "cell_type": "code",
   "execution_count": 8,
   "id": "ebc62953-f5c6-4675-bf8f-c95be93c1ae5",
   "metadata": {},
   "outputs": [
    {
     "data": {
      "text/plain": [
       "5"
      ]
     },
     "execution_count": 8,
     "metadata": {},
     "output_type": "execute_result"
    }
   ],
   "source": [
    "ar1[-1]"
   ]
  },
  {
   "cell_type": "code",
   "execution_count": 9,
   "id": "c85e90c4-88dd-4a19-88ea-75ce10f559a5",
   "metadata": {},
   "outputs": [
    {
     "data": {
      "text/plain": [
       "4"
      ]
     },
     "execution_count": 9,
     "metadata": {},
     "output_type": "execute_result"
    }
   ],
   "source": [
    "ar1[3]"
   ]
  },
  {
   "cell_type": "code",
   "execution_count": 11,
   "id": "e1624373-c988-4122-9d55-b4000425f10f",
   "metadata": {},
   "outputs": [],
   "source": [
    "ar2 = array.array('f',[10,20,30,40,50])"
   ]
  },
  {
   "cell_type": "code",
   "execution_count": 12,
   "id": "aeba2c32-8611-4caf-bb2f-c71f440ea530",
   "metadata": {},
   "outputs": [
    {
     "data": {
      "text/plain": [
       "array('f', [10.0, 20.0, 30.0, 40.0, 50.0])"
      ]
     },
     "execution_count": 12,
     "metadata": {},
     "output_type": "execute_result"
    }
   ],
   "source": [
    "ar2"
   ]
  },
  {
   "cell_type": "code",
   "execution_count": 13,
   "id": "1c7dd426-ac3b-443a-bc5a-345a5276a043",
   "metadata": {},
   "outputs": [
    {
     "data": {
      "text/plain": [
       "array('f', [20.0, 30.0, 40.0])"
      ]
     },
     "execution_count": 13,
     "metadata": {},
     "output_type": "execute_result"
    }
   ],
   "source": [
    "ar2[1:4]"
   ]
  },
  {
   "cell_type": "code",
   "execution_count": 15,
   "id": "c91c6349-e7c2-42a3-96be-1585430ca6da",
   "metadata": {},
   "outputs": [
    {
     "data": {
      "text/plain": [
       "40.0"
      ]
     },
     "execution_count": 15,
     "metadata": {},
     "output_type": "execute_result"
    }
   ],
   "source": [
    "ar2[-2]"
   ]
  },
  {
   "cell_type": "code",
   "execution_count": 16,
   "id": "23d6f241-2af5-4380-a195-bc9237db2311",
   "metadata": {},
   "outputs": [
    {
     "data": {
      "text/plain": [
       "5"
      ]
     },
     "execution_count": 16,
     "metadata": {},
     "output_type": "execute_result"
    }
   ],
   "source": [
    "len(ar2)"
   ]
  },
  {
   "cell_type": "code",
   "execution_count": 17,
   "id": "f29d35d5-9a1a-48ad-aeb2-cff33dc6584d",
   "metadata": {},
   "outputs": [
    {
     "data": {
      "text/plain": [
       "5"
      ]
     },
     "execution_count": 17,
     "metadata": {},
     "output_type": "execute_result"
    }
   ],
   "source": [
    "len(ar1)"
   ]
  },
  {
   "cell_type": "code",
   "execution_count": 18,
   "id": "26fe3555-9918-4f4f-a919-56cda86fd59d",
   "metadata": {},
   "outputs": [],
   "source": [
    "ar2.append(100)"
   ]
  },
  {
   "cell_type": "code",
   "execution_count": 19,
   "id": "d137ec04-696a-42e4-ae28-1d3fe04496bf",
   "metadata": {},
   "outputs": [
    {
     "data": {
      "text/plain": [
       "array('f', [10.0, 20.0, 30.0, 40.0, 50.0, 100.0])"
      ]
     },
     "execution_count": 19,
     "metadata": {},
     "output_type": "execute_result"
    }
   ],
   "source": [
    "ar2"
   ]
  },
  {
   "cell_type": "code",
   "execution_count": 21,
   "id": "f539c313-4602-4366-b23a-39b6f9699c66",
   "metadata": {},
   "outputs": [],
   "source": [
    "ar2.append(200)"
   ]
  },
  {
   "cell_type": "code",
   "execution_count": 22,
   "id": "0935adc2-d0ad-488b-a0c6-4498733e3b5a",
   "metadata": {},
   "outputs": [
    {
     "data": {
      "text/plain": [
       "array('f', [10.0, 20.0, 30.0, 40.0, 50.0, 100.0, 200.0])"
      ]
     },
     "execution_count": 22,
     "metadata": {},
     "output_type": "execute_result"
    }
   ],
   "source": [
    "ar2"
   ]
  },
  {
   "cell_type": "code",
   "execution_count": 23,
   "id": "db0e43ba-3f47-4e67-8647-a058f42a6dc0",
   "metadata": {},
   "outputs": [
    {
     "data": {
      "text/plain": [
       "7"
      ]
     },
     "execution_count": 23,
     "metadata": {},
     "output_type": "execute_result"
    }
   ],
   "source": [
    "len(ar2)"
   ]
  },
  {
   "cell_type": "code",
   "execution_count": 24,
   "id": "8bada44a-2cb2-41f9-893e-082e40cbca38",
   "metadata": {},
   "outputs": [],
   "source": [
    "del ar2[-1]"
   ]
  },
  {
   "cell_type": "code",
   "execution_count": 25,
   "id": "ce538966-0f9e-402f-afa3-e22b1eb2764b",
   "metadata": {},
   "outputs": [
    {
     "data": {
      "text/plain": [
       "array('f', [10.0, 20.0, 30.0, 40.0, 50.0, 100.0])"
      ]
     },
     "execution_count": 25,
     "metadata": {},
     "output_type": "execute_result"
    }
   ],
   "source": [
    "ar2"
   ]
  },
  {
   "cell_type": "code",
   "execution_count": 26,
   "id": "37df0e53-7602-47d0-a6e9-19ba20aa32f2",
   "metadata": {},
   "outputs": [],
   "source": [
    "del ar2[3]"
   ]
  },
  {
   "cell_type": "code",
   "execution_count": 27,
   "id": "dda555a7-c66c-4d61-9e86-a6632dbacbb9",
   "metadata": {},
   "outputs": [
    {
     "data": {
      "text/plain": [
       "array('f', [10.0, 20.0, 30.0, 50.0, 100.0])"
      ]
     },
     "execution_count": 27,
     "metadata": {},
     "output_type": "execute_result"
    }
   ],
   "source": [
    "ar2"
   ]
  },
  {
   "cell_type": "code",
   "execution_count": 37,
   "id": "deea8665-f935-40db-9586-f35c85c9c2b5",
   "metadata": {},
   "outputs": [],
   "source": [
    "ar2.append(300)"
   ]
  },
  {
   "cell_type": "code",
   "execution_count": 38,
   "id": "39211128-95c8-4664-8e17-0ad937119bc2",
   "metadata": {},
   "outputs": [
    {
     "data": {
      "text/plain": [
       "array('f', [2.0, 10.0, 20.0, 30.0, 50.0, 100.0, 300.0])"
      ]
     },
     "execution_count": 38,
     "metadata": {},
     "output_type": "execute_result"
    }
   ],
   "source": [
    "ar2"
   ]
  },
  {
   "cell_type": "code",
   "execution_count": 39,
   "id": "f2c63996-bb86-4139-86c9-63057545f641",
   "metadata": {},
   "outputs": [
    {
     "data": {
      "text/plain": [
       "array('f', [2.0, 10.0, 20.0, 30.0, 50.0, 100.0, 300.0])"
      ]
     },
     "execution_count": 39,
     "metadata": {},
     "output_type": "execute_result"
    }
   ],
   "source": [
    "ar2"
   ]
  },
  {
   "cell_type": "code",
   "execution_count": 40,
   "id": "89cdb53d-bd2c-48c3-b45b-49d7757c21bc",
   "metadata": {},
   "outputs": [],
   "source": [
    "ar2.reverse()"
   ]
  },
  {
   "cell_type": "code",
   "execution_count": 43,
   "id": "f75f82bf-0741-4802-9b49-6e1bbfc534e9",
   "metadata": {},
   "outputs": [],
   "source": [
    "ar2.append(500)"
   ]
  },
  {
   "cell_type": "code",
   "execution_count": 44,
   "id": "b2e5f59a-5fa1-4d7e-8e08-55194f4ec09a",
   "metadata": {},
   "outputs": [
    {
     "data": {
      "text/plain": [
       "array('f', [300.0, 100.0, 50.0, 30.0, 20.0, 10.0, 2.0, 500.0])"
      ]
     },
     "execution_count": 44,
     "metadata": {},
     "output_type": "execute_result"
    }
   ],
   "source": [
    "ar2\n"
   ]
  },
  {
   "cell_type": "code",
   "execution_count": 45,
   "id": "85ad7762-aedd-4ffa-94e2-0cc791c5da5d",
   "metadata": {},
   "outputs": [],
   "source": [
    "ar2.reverse()"
   ]
  },
  {
   "cell_type": "code",
   "execution_count": 46,
   "id": "1d76d5af-1f87-45c3-8131-b4f69f8c5616",
   "metadata": {},
   "outputs": [
    {
     "data": {
      "text/plain": [
       "array('f', [500.0, 2.0, 10.0, 20.0, 30.0, 50.0, 100.0, 300.0])"
      ]
     },
     "execution_count": 46,
     "metadata": {},
     "output_type": "execute_result"
    }
   ],
   "source": [
    "ar2"
   ]
  },
  {
   "cell_type": "code",
   "execution_count": 47,
   "id": "26c14f52-8c80-4fae-b1ab-904dbf128b79",
   "metadata": {},
   "outputs": [
    {
     "data": {
      "text/plain": [
       "1"
      ]
     },
     "execution_count": 47,
     "metadata": {},
     "output_type": "execute_result"
    }
   ],
   "source": [
    "ar2.count(10)"
   ]
  },
  {
   "cell_type": "code",
   "execution_count": 48,
   "id": "09a84983-5b31-486f-b6a2-7f255398718c",
   "metadata": {},
   "outputs": [
    {
     "data": {
      "text/plain": [
       "6"
      ]
     },
     "execution_count": 48,
     "metadata": {},
     "output_type": "execute_result"
    }
   ],
   "source": [
    "ar2.index(100)"
   ]
  },
  {
   "cell_type": "code",
   "execution_count": 49,
   "id": "c715528a-2e60-40bb-aeef-b0dcc37fdc14",
   "metadata": {},
   "outputs": [
    {
     "data": {
      "text/plain": [
       "300.0"
      ]
     },
     "execution_count": 49,
     "metadata": {},
     "output_type": "execute_result"
    }
   ],
   "source": [
    "ar2.pop()"
   ]
  },
  {
   "cell_type": "code",
   "execution_count": 50,
   "id": "ccd82337-555f-4023-b00c-619dc79f9751",
   "metadata": {},
   "outputs": [
    {
     "data": {
      "text/plain": [
       "500.0"
      ]
     },
     "execution_count": 50,
     "metadata": {},
     "output_type": "execute_result"
    }
   ],
   "source": [
    "ar2.pop(0)"
   ]
  },
  {
   "cell_type": "code",
   "execution_count": 51,
   "id": "a73a9c07-f5a4-4e19-b1da-96245d15b329",
   "metadata": {},
   "outputs": [],
   "source": [
    "ar2.remove(20)"
   ]
  },
  {
   "cell_type": "code",
   "execution_count": 52,
   "id": "66228452-75d5-4f6c-96ca-bc5a5c7aecb9",
   "metadata": {},
   "outputs": [
    {
     "data": {
      "text/plain": [
       "array('f', [2.0, 10.0, 30.0, 50.0, 100.0])"
      ]
     },
     "execution_count": 52,
     "metadata": {},
     "output_type": "execute_result"
    }
   ],
   "source": [
    "ar2"
   ]
  },
  {
   "cell_type": "code",
   "execution_count": 53,
   "id": "4c5a371d-4791-430d-be80-04d3bde84f4e",
   "metadata": {},
   "outputs": [],
   "source": [
    "ar3 = array.array('i',[])"
   ]
  },
  {
   "cell_type": "code",
   "execution_count": 54,
   "id": "3931ffe4-a8a2-493e-b4a6-84131aee7f78",
   "metadata": {},
   "outputs": [
    {
     "data": {
      "text/plain": [
       "array('i')"
      ]
     },
     "execution_count": 54,
     "metadata": {},
     "output_type": "execute_result"
    }
   ],
   "source": [
    "ar3"
   ]
  },
  {
   "cell_type": "code",
   "execution_count": 58,
   "id": "3bbef569-fcc6-4d0d-8ba3-58dc2e941210",
   "metadata": {},
   "outputs": [
    {
     "name": "stdin",
     "output_type": "stream",
     "text": [
      " 5\n",
      " 2\n",
      " 4\n",
      " 6\n",
      " 8\n",
      " 10\n"
     ]
    },
    {
     "name": "stdout",
     "output_type": "stream",
     "text": [
      "array('i', [2, 4, 6, 8, 10])\n"
     ]
    }
   ],
   "source": [
    "val = int(input())\n",
    "\n",
    "for i in range(val):\n",
    "    n = int(input())\n",
    "    ar3.append(n)\n",
    "\n",
    "print(ar3)"
   ]
  },
  {
   "cell_type": "code",
   "execution_count": null,
   "id": "12df45d8-f1ff-4405-a371-db23c99e0743",
   "metadata": {},
   "outputs": [],
   "source": []
  }
 ],
 "metadata": {
  "kernelspec": {
   "display_name": "Python 3 (ipykernel)",
   "language": "python",
   "name": "python3"
  },
  "language_info": {
   "codemirror_mode": {
    "name": "ipython",
    "version": 3
   },
   "file_extension": ".py",
   "mimetype": "text/x-python",
   "name": "python",
   "nbconvert_exporter": "python",
   "pygments_lexer": "ipython3",
   "version": "3.13.5"
  }
 },
 "nbformat": 4,
 "nbformat_minor": 5
}
