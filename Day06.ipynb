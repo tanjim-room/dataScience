{
 "cells": [
  {
   "cell_type": "code",
   "execution_count": 1,
   "id": "43259fda-11d1-4be1-b44e-3042298a1a84",
   "metadata": {},
   "outputs": [
    {
     "data": {
      "text/plain": [
       "25"
      ]
     },
     "execution_count": 1,
     "metadata": {},
     "output_type": "execute_result"
    }
   ],
   "source": [
    "5**2"
   ]
  },
  {
   "cell_type": "code",
   "execution_count": 2,
   "id": "da61172a-e768-4501-9d67-ba4974ec26d7",
   "metadata": {},
   "outputs": [
    {
     "data": {
      "text/plain": [
       "1"
      ]
     },
     "execution_count": 2,
     "metadata": {},
     "output_type": "execute_result"
    }
   ],
   "source": [
    "6//4"
   ]
  },
  {
   "cell_type": "markdown",
   "id": "d1d13a11-8129-4ae5-abb0-32ee683628b3",
   "metadata": {},
   "source": [
    "import math\n",
    "math.floor(6/4)"
   ]
  },
  {
   "cell_type": "code",
   "execution_count": 3,
   "id": "eaf1a239-d949-4c16-b2c7-e28833e3121d",
   "metadata": {},
   "outputs": [
    {
     "data": {
      "text/plain": [
       "1"
      ]
     },
     "execution_count": 3,
     "metadata": {},
     "output_type": "execute_result"
    }
   ],
   "source": [
    "import math\n",
    "math.floor(7/5)"
   ]
  },
  {
   "cell_type": "code",
   "execution_count": 4,
   "id": "5801a5e9-f944-4711-a61f-cae016eda835",
   "metadata": {},
   "outputs": [
    {
     "data": {
      "text/plain": [
       "True"
      ]
     },
     "execution_count": 4,
     "metadata": {},
     "output_type": "execute_result"
    }
   ],
   "source": [
    "x = 10\n",
    "y = 2000\n",
    "x is not y"
   ]
  },
  {
   "cell_type": "code",
   "execution_count": 1,
   "id": "88a9e83f-4165-4a11-8f38-5c4139794369",
   "metadata": {},
   "outputs": [
    {
     "data": {
      "text/plain": [
       "True"
      ]
     },
     "execution_count": 1,
     "metadata": {},
     "output_type": "execute_result"
    }
   ],
   "source": [
    "# Membership Check\n",
    "lists = [2,3,4,1]\n",
    "2 in lists"
   ]
  },
  {
   "cell_type": "code",
   "execution_count": 2,
   "id": "3f544f8a-c837-4842-aa57-5df54fd9b801",
   "metadata": {},
   "outputs": [
    {
     "data": {
      "text/plain": [
       "False"
      ]
     },
     "execution_count": 2,
     "metadata": {},
     "output_type": "execute_result"
    }
   ],
   "source": [
    "2 not in lists"
   ]
  },
  {
   "cell_type": "code",
   "execution_count": 3,
   "id": "18a9768b-65b6-4089-9e79-97049e042368",
   "metadata": {},
   "outputs": [
    {
     "data": {
      "text/plain": [
       "False"
      ]
     },
     "execution_count": 3,
     "metadata": {},
     "output_type": "execute_result"
    }
   ],
   "source": [
    "6 in lists"
   ]
  },
  {
   "cell_type": "code",
   "execution_count": 4,
   "id": "4fc58dc4-fc3a-4279-a50b-220261d785d3",
   "metadata": {},
   "outputs": [
    {
     "data": {
      "text/plain": [
       "True"
      ]
     },
     "execution_count": 4,
     "metadata": {},
     "output_type": "execute_result"
    }
   ],
   "source": [
    "67 not in lists\n"
   ]
  },
  {
   "cell_type": "code",
   "execution_count": 5,
   "id": "9ae533b1-bf3b-4e4b-8cab-0e9d1ff12159",
   "metadata": {},
   "outputs": [
    {
     "data": {
      "text/plain": [
       "True"
      ]
     },
     "execution_count": 5,
     "metadata": {},
     "output_type": "execute_result"
    }
   ],
   "source": [
    "s1 = {23,56,3,35}\n",
    "23 in s1"
   ]
  },
  {
   "cell_type": "code",
   "execution_count": 6,
   "id": "f00ff9fe-feb9-4672-8ee4-6c01a92f8c68",
   "metadata": {},
   "outputs": [
    {
     "data": {
      "text/plain": [
       "False"
      ]
     },
     "execution_count": 6,
     "metadata": {},
     "output_type": "execute_result"
    }
   ],
   "source": [
    "45 in s1"
   ]
  },
  {
   "cell_type": "code",
   "execution_count": 7,
   "id": "289d665f-beac-4028-8ef9-dc122ed01b63",
   "metadata": {},
   "outputs": [
    {
     "data": {
      "text/plain": [
       "True"
      ]
     },
     "execution_count": 7,
     "metadata": {},
     "output_type": "execute_result"
    }
   ],
   "source": [
    "43 not in s1"
   ]
  },
  {
   "cell_type": "code",
   "execution_count": 8,
   "id": "43cf2d06-a667-4871-9501-4a6f264217a6",
   "metadata": {},
   "outputs": [
    {
     "data": {
      "text/plain": [
       "15"
      ]
     },
     "execution_count": 8,
     "metadata": {},
     "output_type": "execute_result"
    }
   ],
   "source": [
    "# Bitwise Operator\n",
    "x = 10\n",
    "y = 5 \n",
    "x | y"
   ]
  },
  {
   "cell_type": "code",
   "execution_count": 9,
   "id": "73c56865-abd9-4ace-9f62-05a510755977",
   "metadata": {},
   "outputs": [
    {
     "data": {
      "text/plain": [
       "0"
      ]
     },
     "execution_count": 9,
     "metadata": {},
     "output_type": "execute_result"
    }
   ],
   "source": [
    "x & y"
   ]
  },
  {
   "cell_type": "code",
   "execution_count": 10,
   "id": "0b1ff88c-7dfa-4881-bb73-7d3caa6c989a",
   "metadata": {},
   "outputs": [
    {
     "data": {
      "text/plain": [
       "15"
      ]
     },
     "execution_count": 10,
     "metadata": {},
     "output_type": "execute_result"
    }
   ],
   "source": [
    "x ^ y"
   ]
  },
  {
   "cell_type": "code",
   "execution_count": 11,
   "id": "dbc06d05-bae7-479c-bb81-a49084fe82c7",
   "metadata": {},
   "outputs": [
    {
     "data": {
      "text/plain": [
       "-11"
      ]
     },
     "execution_count": 11,
     "metadata": {},
     "output_type": "execute_result"
    }
   ],
   "source": [
    "~x"
   ]
  },
  {
   "cell_type": "code",
   "execution_count": 12,
   "id": "20828603-acb3-4c16-a436-73a4a75ed037",
   "metadata": {},
   "outputs": [
    {
     "data": {
      "text/plain": [
       "True"
      ]
     },
     "execution_count": 12,
     "metadata": {},
     "output_type": "execute_result"
    }
   ],
   "source": [
    "10 > 6"
   ]
  },
  {
   "cell_type": "code",
   "execution_count": 13,
   "id": "008c1acf-f16c-43d5-a85a-606a0d165184",
   "metadata": {},
   "outputs": [
    {
     "data": {
      "text/plain": [
       "True"
      ]
     },
     "execution_count": 13,
     "metadata": {},
     "output_type": "execute_result"
    }
   ],
   "source": [
    "10  > 8 or 8 > 9"
   ]
  },
  {
   "cell_type": "code",
   "execution_count": 14,
   "id": "d949224a-e79b-41b7-9908-cac751d5bba1",
   "metadata": {},
   "outputs": [
    {
     "data": {
      "text/plain": [
       "False"
      ]
     },
     "execution_count": 14,
     "metadata": {},
     "output_type": "execute_result"
    }
   ],
   "source": [
    "not(10  > 8 or 8 > 9)"
   ]
  },
  {
   "cell_type": "code",
   "execution_count": null,
   "id": "26b5338b-75ab-4f1a-aa8c-e162a0005e8d",
   "metadata": {},
   "outputs": [],
   "source": []
  }
 ],
 "metadata": {
  "kernelspec": {
   "display_name": "Python 3 (ipykernel)",
   "language": "python",
   "name": "python3"
  },
  "language_info": {
   "codemirror_mode": {
    "name": "ipython",
    "version": 3
   },
   "file_extension": ".py",
   "mimetype": "text/x-python",
   "name": "python",
   "nbconvert_exporter": "python",
   "pygments_lexer": "ipython3",
   "version": "3.13.5"
  }
 },
 "nbformat": 4,
 "nbformat_minor": 5
}
