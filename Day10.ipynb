{
 "cells": [
  {
   "cell_type": "code",
   "execution_count": 3,
   "id": "53afa33b-3648-471d-92aa-6b225a98fda5",
   "metadata": {},
   "outputs": [
    {
     "name": "stdout",
     "output_type": "stream",
     "text": [
      "Rakib 0\n",
      "Rakib 1\n",
      "Rakib 2\n",
      "Rakib 3\n",
      "Rakib 4\n",
      "Rakib 5\n",
      "Rakib 6\n",
      "Rakib 7\n",
      "Rakib 8\n",
      "Rakib 9\n"
     ]
    }
   ],
   "source": [
    "c = 0\n",
    "while(c<10):\n",
    "    print(\"Rakib\",c)\n",
    "    c = c + 1"
   ]
  },
  {
   "cell_type": "code",
   "execution_count": 2,
   "id": "e1abc2da-b066-423c-b43b-c50234b0272e",
   "metadata": {},
   "outputs": [
    {
     "name": "stdout",
     "output_type": "stream",
     "text": [
      "I\n",
      " \n",
      "L\n",
      "o\n",
      "v\n",
      "e\n",
      " \n",
      "Y\n",
      "o\n",
      "u\n"
     ]
    }
   ],
   "source": [
    "m = \"I Love You\"\n",
    "\n",
    "i = 0\n",
    "\n",
    "while i < len(m):\n",
    "    print(m[i])\n",
    "    i = i + 1\n",
    "\n"
   ]
  },
  {
   "cell_type": "code",
   "execution_count": 3,
   "id": "3f442b1a-a49a-4030-93b8-bacb0d7ec0ff",
   "metadata": {},
   "outputs": [
    {
     "data": {
      "text/plain": [
       "10"
      ]
     },
     "execution_count": 3,
     "metadata": {},
     "output_type": "execute_result"
    }
   ],
   "source": [
    "len(m)"
   ]
  },
  {
   "cell_type": "code",
   "execution_count": 4,
   "id": "e7ba1a46-b755-4b69-942f-823883c1e362",
   "metadata": {},
   "outputs": [
    {
     "data": {
      "text/plain": [
       "10"
      ]
     },
     "execution_count": 4,
     "metadata": {},
     "output_type": "execute_result"
    }
   ],
   "source": [
    "x = 10\n",
    "x"
   ]
  },
  {
   "cell_type": "code",
   "execution_count": 3,
   "id": "1f3e9098-5219-419c-b5f0-3cf2492d3316",
   "metadata": {},
   "outputs": [
    {
     "name": "stdout",
     "output_type": "stream",
     "text": [
      "1 2 3 4 \n",
      "1 2 3 4 \n",
      "1 2 3 4 \n",
      "1 2 3 4 \n"
     ]
    }
   ],
   "source": [
    "numbers = [1, 2, 3, 4]\n",
    "\n",
    "for x in numbers:          # outer loop (runs 4 times: for 1, 2, 3, 4)\n",
    "    y = 0\n",
    "    while y < len(numbers):  # inner loop (runs from y=0 to y=3)\n",
    "        print(numbers[y], end=' ')\n",
    "        y = y + 1\n",
    "    print()             # newline after each full inner loop\n"
   ]
  },
  {
   "cell_type": "code",
   "execution_count": null,
   "id": "238ec9c2-f966-4844-b7ed-783c99bc6eab",
   "metadata": {},
   "outputs": [],
   "source": []
  }
 ],
 "metadata": {
  "kernelspec": {
   "display_name": "Python 3 (ipykernel)",
   "language": "python",
   "name": "python3"
  },
  "language_info": {
   "codemirror_mode": {
    "name": "ipython",
    "version": 3
   },
   "file_extension": ".py",
   "mimetype": "text/x-python",
   "name": "python",
   "nbconvert_exporter": "python",
   "pygments_lexer": "ipython3",
   "version": "3.13.5"
  }
 },
 "nbformat": 4,
 "nbformat_minor": 5
}
