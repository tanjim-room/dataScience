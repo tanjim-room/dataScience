{
 "cells": [
  {
   "cell_type": "code",
   "execution_count": 1,
   "id": "770b1232-60a7-49c4-b1cb-ffb0187a2396",
   "metadata": {},
   "outputs": [],
   "source": [
    "# Frozen Set Methods\n",
    "set1 = {1,2,3,4}\n",
    "set2 = {1,2,\"A\",\"B\"}\n",
    "set3 = frozenset(set2)\n"
   ]
  },
  {
   "cell_type": "code",
   "execution_count": 2,
   "id": "366184eb-6bd5-41ac-8c1a-c06c14d17748",
   "metadata": {},
   "outputs": [
    {
     "data": {
      "text/plain": [
       "{1, 2, 3, 4}"
      ]
     },
     "execution_count": 2,
     "metadata": {},
     "output_type": "execute_result"
    }
   ],
   "source": [
    "set1"
   ]
  },
  {
   "cell_type": "code",
   "execution_count": 3,
   "id": "b97026cf-2206-4f90-9d46-9c19e53071af",
   "metadata": {},
   "outputs": [],
   "source": [
    "set1.add(5)"
   ]
  },
  {
   "cell_type": "code",
   "execution_count": 4,
   "id": "b32451b2-bfc2-4d45-ac17-8e5ebf4438f1",
   "metadata": {},
   "outputs": [
    {
     "data": {
      "text/plain": [
       "{1, 2, 3, 4, 5}"
      ]
     },
     "execution_count": 4,
     "metadata": {},
     "output_type": "execute_result"
    }
   ],
   "source": [
    "set1"
   ]
  },
  {
   "cell_type": "code",
   "execution_count": 5,
   "id": "7fa5d933-0c5a-4a13-8734-c3c3dd4c9354",
   "metadata": {},
   "outputs": [],
   "source": [
    "set4 = set2"
   ]
  },
  {
   "cell_type": "code",
   "execution_count": 6,
   "id": "c526e11d-757a-48d7-983b-e870da2d1c3f",
   "metadata": {},
   "outputs": [
    {
     "data": {
      "text/plain": [
       "{1, 2, 'A', 'B'}"
      ]
     },
     "execution_count": 6,
     "metadata": {},
     "output_type": "execute_result"
    }
   ],
   "source": [
    "set4"
   ]
  },
  {
   "cell_type": "code",
   "execution_count": 7,
   "id": "e6a6d71d-b1fe-48ee-b374-f787ebd70f73",
   "metadata": {},
   "outputs": [
    {
     "data": {
      "text/plain": [
       "{1, 2, 'A', 'B'}"
      ]
     },
     "execution_count": 7,
     "metadata": {},
     "output_type": "execute_result"
    }
   ],
   "source": [
    "set2"
   ]
  },
  {
   "cell_type": "code",
   "execution_count": 8,
   "id": "c7bbc77c-d995-4359-9213-a23eb02589f4",
   "metadata": {},
   "outputs": [],
   "source": [
    "set2.add(5)"
   ]
  },
  {
   "cell_type": "code",
   "execution_count": 9,
   "id": "3704cd34-8d42-45fc-a3f4-c0797775adbb",
   "metadata": {},
   "outputs": [
    {
     "data": {
      "text/plain": [
       "{1, 2, 5, 'A', 'B'}"
      ]
     },
     "execution_count": 9,
     "metadata": {},
     "output_type": "execute_result"
    }
   ],
   "source": [
    "set2"
   ]
  },
  {
   "cell_type": "code",
   "execution_count": 10,
   "id": "65391465-0e8f-4d2d-89e9-d1b7e9650348",
   "metadata": {},
   "outputs": [
    {
     "data": {
      "text/plain": [
       "{1, 2, 3, 4, 5}"
      ]
     },
     "execution_count": 10,
     "metadata": {},
     "output_type": "execute_result"
    }
   ],
   "source": [
    "set1"
   ]
  },
  {
   "cell_type": "code",
   "execution_count": 11,
   "id": "34200f6e-f753-4a63-be51-2f63c6bfc816",
   "metadata": {},
   "outputs": [
    {
     "data": {
      "text/plain": [
       "{1, 2, 5, 'A', 'B'}"
      ]
     },
     "execution_count": 11,
     "metadata": {},
     "output_type": "execute_result"
    }
   ],
   "source": [
    "set2"
   ]
  },
  {
   "cell_type": "code",
   "execution_count": 12,
   "id": "ca882454-18ba-4d65-8c34-99be0887bb30",
   "metadata": {},
   "outputs": [],
   "source": [
    "set2.remove(\"A\")"
   ]
  },
  {
   "cell_type": "code",
   "execution_count": 13,
   "id": "7a537555-e16e-44b4-8b17-b74f2cf2a333",
   "metadata": {},
   "outputs": [
    {
     "data": {
      "text/plain": [
       "{1, 2, 5, 'B'}"
      ]
     },
     "execution_count": 13,
     "metadata": {},
     "output_type": "execute_result"
    }
   ],
   "source": [
    "set2\n"
   ]
  },
  {
   "cell_type": "code",
   "execution_count": 14,
   "id": "f592014a-d23b-490e-81e1-65eba8d794f3",
   "metadata": {},
   "outputs": [
    {
     "data": {
      "text/plain": [
       "{1, 2, 5, 'B'}"
      ]
     },
     "execution_count": 14,
     "metadata": {},
     "output_type": "execute_result"
    }
   ],
   "source": [
    "set4"
   ]
  },
  {
   "cell_type": "code",
   "execution_count": 15,
   "id": "1f1a1b2d-5fe9-4b84-9939-46e588295c02",
   "metadata": {},
   "outputs": [],
   "source": [
    "set5 = set4.copy()"
   ]
  },
  {
   "cell_type": "code",
   "execution_count": 17,
   "id": "c278da41-a18f-43b6-a15f-f8cf050330af",
   "metadata": {},
   "outputs": [],
   "source": [
    "set4.remove(1)"
   ]
  },
  {
   "cell_type": "code",
   "execution_count": 18,
   "id": "5d8ec751-a74b-4f06-bd4e-03b6bb08eccc",
   "metadata": {},
   "outputs": [
    {
     "data": {
      "text/plain": [
       "{2, 5, 'B'}"
      ]
     },
     "execution_count": 18,
     "metadata": {},
     "output_type": "execute_result"
    }
   ],
   "source": [
    "set4"
   ]
  },
  {
   "cell_type": "code",
   "execution_count": 19,
   "id": "4e8880e6-1ef7-4205-838e-869695921f63",
   "metadata": {},
   "outputs": [
    {
     "data": {
      "text/plain": [
       "{1, 2, 5, 'B'}"
      ]
     },
     "execution_count": 19,
     "metadata": {},
     "output_type": "execute_result"
    }
   ],
   "source": [
    "set5"
   ]
  },
  {
   "cell_type": "code",
   "execution_count": 21,
   "id": "23189376-d8b3-48e1-92ed-4a0ffad8d840",
   "metadata": {},
   "outputs": [
    {
     "data": {
      "text/plain": [
       "{3, 4, 5}"
      ]
     },
     "execution_count": 21,
     "metadata": {},
     "output_type": "execute_result"
    }
   ],
   "source": [
    "set1.difference(set3)"
   ]
  },
  {
   "cell_type": "code",
   "execution_count": 22,
   "id": "fa1c6258-44ce-4e86-a67e-20e6e52608bf",
   "metadata": {},
   "outputs": [],
   "source": [
    "s1 = {1,3,5,7,9}\n",
    "s2 = {1,2,3,4,5}\n",
    "s3 = frozenset(s2)"
   ]
  },
  {
   "cell_type": "code",
   "execution_count": 23,
   "id": "1297aac8-5d4c-4397-ae64-f413a7f92e5e",
   "metadata": {},
   "outputs": [
    {
     "data": {
      "text/plain": [
       "set"
      ]
     },
     "execution_count": 23,
     "metadata": {},
     "output_type": "execute_result"
    }
   ],
   "source": [
    "type(s2)"
   ]
  },
  {
   "cell_type": "code",
   "execution_count": 24,
   "id": "0aec2187-af30-48ed-b8b0-f8534002f772",
   "metadata": {},
   "outputs": [
    {
     "data": {
      "text/plain": [
       "frozenset"
      ]
     },
     "execution_count": 24,
     "metadata": {},
     "output_type": "execute_result"
    }
   ],
   "source": [
    "type(s3)"
   ]
  },
  {
   "cell_type": "code",
   "execution_count": 25,
   "id": "5b492efb-5507-405e-9c6c-7784bf7669dc",
   "metadata": {},
   "outputs": [
    {
     "data": {
      "text/plain": [
       "{7, 9}"
      ]
     },
     "execution_count": 25,
     "metadata": {},
     "output_type": "execute_result"
    }
   ],
   "source": [
    "s1.difference(s3)"
   ]
  },
  {
   "cell_type": "code",
   "execution_count": 26,
   "id": "3666b664-e68b-49c0-b36b-217f62f3a28d",
   "metadata": {},
   "outputs": [
    {
     "data": {
      "text/plain": [
       "frozenset({2, 4})"
      ]
     },
     "execution_count": 26,
     "metadata": {},
     "output_type": "execute_result"
    }
   ],
   "source": [
    "s3.difference(s1)"
   ]
  },
  {
   "cell_type": "code",
   "execution_count": 27,
   "id": "75fa1aef-da5b-45f4-84fb-4ab113f0e5fd",
   "metadata": {},
   "outputs": [
    {
     "data": {
      "text/plain": [
       "{1, 3, 5, 7, 9}"
      ]
     },
     "execution_count": 27,
     "metadata": {},
     "output_type": "execute_result"
    }
   ],
   "source": [
    "s1"
   ]
  },
  {
   "cell_type": "code",
   "execution_count": 28,
   "id": "efd7e932-d66e-4632-ac72-74cdd940f60b",
   "metadata": {},
   "outputs": [
    {
     "data": {
      "text/plain": [
       "frozenset({1, 2, 3, 4, 5})"
      ]
     },
     "execution_count": 28,
     "metadata": {},
     "output_type": "execute_result"
    }
   ],
   "source": [
    "s3"
   ]
  },
  {
   "cell_type": "code",
   "execution_count": 30,
   "id": "fd0f8893-9914-4e86-be6e-18020c4651f5",
   "metadata": {},
   "outputs": [],
   "source": [
    "s1.difference_update(s3)"
   ]
  },
  {
   "cell_type": "code",
   "execution_count": 31,
   "id": "d15872a4-8892-4622-89ce-d1bbc4858237",
   "metadata": {},
   "outputs": [
    {
     "data": {
      "text/plain": [
       "{7, 9}"
      ]
     },
     "execution_count": 31,
     "metadata": {},
     "output_type": "execute_result"
    }
   ],
   "source": [
    "s1"
   ]
  },
  {
   "cell_type": "code",
   "execution_count": 32,
   "id": "0f236fbe-a5a9-4fab-b55a-5b3ada982799",
   "metadata": {},
   "outputs": [
    {
     "data": {
      "text/plain": [
       "False"
      ]
     },
     "execution_count": 32,
     "metadata": {},
     "output_type": "execute_result"
    }
   ],
   "source": [
    "s1.issubset(s3)"
   ]
  },
  {
   "cell_type": "code",
   "execution_count": 33,
   "id": "f6904a16-d76a-4753-90d9-7f9f63086a13",
   "metadata": {},
   "outputs": [
    {
     "data": {
      "text/plain": [
       "False"
      ]
     },
     "execution_count": 33,
     "metadata": {},
     "output_type": "execute_result"
    }
   ],
   "source": [
    "s1.issuperset(s3)"
   ]
  },
  {
   "cell_type": "code",
   "execution_count": 35,
   "id": "cc17fb6d-0f4a-4f16-9c7a-f8b97f74edfe",
   "metadata": {},
   "outputs": [
    {
     "data": {
      "text/plain": [
       "True"
      ]
     },
     "execution_count": 35,
     "metadata": {},
     "output_type": "execute_result"
    }
   ],
   "source": [
    "s1.issuperset({7})"
   ]
  },
  {
   "cell_type": "code",
   "execution_count": 37,
   "id": "61ca8735-0517-4948-8dee-241aa0085218",
   "metadata": {},
   "outputs": [],
   "source": [
    "ss1 = {1,2,8,9}\n",
    "ss2 = {1,2,5,6}"
   ]
  },
  {
   "cell_type": "code",
   "execution_count": 40,
   "id": "c81176f1-0a87-4331-847d-eaed31a9ab1b",
   "metadata": {},
   "outputs": [
    {
     "data": {
      "text/plain": [
       "{5, 6, 8, 9}"
      ]
     },
     "execution_count": 40,
     "metadata": {},
     "output_type": "execute_result"
    }
   ],
   "source": [
    "ss1.symmetric_difference(ss2)"
   ]
  },
  {
   "cell_type": "code",
   "execution_count": null,
   "id": "07c828bc-4783-4daa-b73d-3280e4927476",
   "metadata": {},
   "outputs": [],
   "source": []
  }
 ],
 "metadata": {
  "kernelspec": {
   "display_name": "Python 3 (ipykernel)",
   "language": "python",
   "name": "python3"
  },
  "language_info": {
   "codemirror_mode": {
    "name": "ipython",
    "version": 3
   },
   "file_extension": ".py",
   "mimetype": "text/x-python",
   "name": "python",
   "nbconvert_exporter": "python",
   "pygments_lexer": "ipython3",
   "version": "3.13.5"
  }
 },
 "nbformat": 4,
 "nbformat_minor": 5
}
