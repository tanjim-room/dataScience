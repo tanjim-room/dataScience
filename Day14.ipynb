{
 "cells": [
  {
   "cell_type": "code",
   "execution_count": 1,
   "id": "b743d234-3196-400b-b67c-2d0ba65a34cf",
   "metadata": {},
   "outputs": [
    {
     "data": {
      "text/plain": [
       "[0, 1, 4, 9, 16, 25, 36, 49, 64, 81, 100]"
      ]
     },
     "execution_count": 1,
     "metadata": {},
     "output_type": "execute_result"
    }
   ],
   "source": [
    "# List Comprehension\n",
    "[x**2 for x in range(11)]"
   ]
  },
  {
   "cell_type": "code",
   "execution_count": 2,
   "id": "5b972c10-f39d-4af6-97f8-c934dcbc6493",
   "metadata": {},
   "outputs": [
    {
     "data": {
      "text/plain": [
       "[0, 4, 16, 36, 64, 100]"
      ]
     },
     "execution_count": 2,
     "metadata": {},
     "output_type": "execute_result"
    }
   ],
   "source": [
    "[x**2 for x in range(11) if x%2 == 0]"
   ]
  },
  {
   "cell_type": "code",
   "execution_count": 6,
   "id": "c174be8d-6273-4019-b4a1-cfe193e51173",
   "metadata": {},
   "outputs": [
    {
     "data": {
      "text/plain": [
       "[' ',\n",
       " 'l',\n",
       " 'o',\n",
       " 'v',\n",
       " 'e',\n",
       " ' ',\n",
       " 'm',\n",
       " 'y',\n",
       " ' ',\n",
       " 'b',\n",
       " 'e',\n",
       " 'a',\n",
       " 'u',\n",
       " 't',\n",
       " 'u',\n",
       " 'f',\n",
       " 'u',\n",
       " 'l',\n",
       " ' ',\n",
       " 'B',\n",
       " 'a',\n",
       " 'n',\n",
       " 'g',\n",
       " 'l',\n",
       " 'a',\n",
       " 'd',\n",
       " 'e',\n",
       " 's',\n",
       " 'h']"
      ]
     },
     "execution_count": 6,
     "metadata": {},
     "output_type": "execute_result"
    }
   ],
   "source": [
    "data = \"I love my beautuful Bangladesh\"\n",
    "[x for x in data]"
   ]
  },
  {
   "cell_type": "code",
   "execution_count": 7,
   "id": "b915b8c8-6897-4e75-a2d8-45c944898430",
   "metadata": {},
   "outputs": [
    {
     "data": {
      "text/plain": [
       "[' ',\n",
       " 'l',\n",
       " 'o',\n",
       " 'v',\n",
       " 'e',\n",
       " ' ',\n",
       " 'm',\n",
       " 'y',\n",
       " ' ',\n",
       " 'b',\n",
       " 'e',\n",
       " 'a',\n",
       " 'u',\n",
       " 't',\n",
       " 'u',\n",
       " 'f',\n",
       " 'u',\n",
       " 'l',\n",
       " ' ',\n",
       " 'B',\n",
       " 'a',\n",
       " 'n',\n",
       " 'g',\n",
       " 'l',\n",
       " 'a',\n",
       " 'd',\n",
       " 'e',\n",
       " 's',\n",
       " 'h']"
      ]
     },
     "execution_count": 7,
     "metadata": {},
     "output_type": "execute_result"
    }
   ],
   "source": [
    "data = \"I love my beautuful Bangladesh\"\n",
    "[x for x in data if x != 'I']"
   ]
  },
  {
   "cell_type": "code",
   "execution_count": 9,
   "id": "24c72ed3-0745-4af0-a89b-418771808491",
   "metadata": {},
   "outputs": [
    {
     "data": {
      "text/plain": [
       "[[1, 2, 3], [1, 2, 3], [1, 2, 3]]"
      ]
     },
     "execution_count": 9,
     "metadata": {},
     "output_type": "execute_result"
    }
   ],
   "source": [
    "[[x for x in range(1,4) ]for y in range(1,4)]"
   ]
  },
  {
   "cell_type": "code",
   "execution_count": 10,
   "id": "07a81f6a-5c15-429d-9a91-29b650c67dfc",
   "metadata": {},
   "outputs": [
    {
     "data": {
      "text/plain": [
       "[5, 6, 3, 4]"
      ]
     },
     "execution_count": 10,
     "metadata": {},
     "output_type": "execute_result"
    }
   ],
   "source": [
    "info = [\"Rakib\", \"Tanjim\", \"Yun\", \"Saza\"]\n",
    "[len(x) for x in info]"
   ]
  },
  {
   "cell_type": "code",
   "execution_count": null,
   "id": "c0f26aa4-78f5-42c3-abaa-16280b577003",
   "metadata": {},
   "outputs": [],
   "source": []
  }
 ],
 "metadata": {
  "kernelspec": {
   "display_name": "Python 3 (ipykernel)",
   "language": "python",
   "name": "python3"
  },
  "language_info": {
   "codemirror_mode": {
    "name": "ipython",
    "version": 3
   },
   "file_extension": ".py",
   "mimetype": "text/x-python",
   "name": "python",
   "nbconvert_exporter": "python",
   "pygments_lexer": "ipython3",
   "version": "3.13.5"
  }
 },
 "nbformat": 4,
 "nbformat_minor": 5
}
