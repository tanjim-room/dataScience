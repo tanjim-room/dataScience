{
 "cells": [
  {
   "cell_type": "code",
   "execution_count": null,
   "id": "4f42b9c5-d11b-4998-8b97-2bd0acd57a36",
   "metadata": {},
   "outputs": [],
   "source": [
    "# Nested Loop\n",
    "for x in range(5):\n",
    "    for y in range(x+1):\n",
    "        print(\"#\", end=' ')\n",
    "    print()"
   ]
  },
  {
   "cell_type": "code",
   "execution_count": null,
   "id": "968fce06-559d-4bea-a3b7-a1acf3bafa25",
   "metadata": {},
   "outputs": [],
   "source": [
    "numbers = [1, 2, 3, 4]\n",
    "\n",
    "for x in numbers:          # outer loop (runs 4 times: for 1, 2, 3, 4)\n",
    "    y = 0\n",
    "    while y < len(num):  # inner loop (runs from y=0 to y=3)\n",
    "        print(num[y], end=' ')\n",
    "        y = y + 1\n",
    "    print()             # newline after each full inner loop\n"
   ]
  },
  {
   "cell_type": "code",
   "execution_count": null,
   "id": "dbbbeb64-e1ee-40fd-9d56-33c45f77d4eb",
   "metadata": {},
   "outputs": [],
   "source": []
  }
 ],
 "metadata": {
  "kernelspec": {
   "display_name": "Python 3 (ipykernel)",
   "language": "python",
   "name": "python3"
  },
  "language_info": {
   "codemirror_mode": {
    "name": "ipython",
    "version": 3
   },
   "file_extension": ".py",
   "mimetype": "text/x-python",
   "name": "python",
   "nbconvert_exporter": "python",
   "pygments_lexer": "ipython3",
   "version": "3.13.5"
  }
 },
 "nbformat": 4,
 "nbformat_minor": 5
}
