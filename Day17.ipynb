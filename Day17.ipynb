{
 "cells": [
  {
   "cell_type": "code",
   "execution_count": 1,
   "id": "82cba042-d580-4379-841f-bbb155794e92",
   "metadata": {},
   "outputs": [
    {
     "data": {
      "text/plain": [
       "{(4, 3, 34, 56, 3), 1, 2, 3, 34}"
      ]
     },
     "execution_count": 1,
     "metadata": {},
     "output_type": "execute_result"
    }
   ],
   "source": [
    "# Set // Unique Elements // No Edit // No Index // Operation Possible // list cannot store\n",
    "set1 = {2,3,34,1,(4,3,34,56,3)}\n",
    "set1\n",
    "\n"
   ]
  },
  {
   "cell_type": "code",
   "execution_count": 2,
   "id": "2a186e22-3e16-403f-b10f-a00c59b38d7a",
   "metadata": {},
   "outputs": [],
   "source": [
    "# Set Methods\n",
    "\n",
    "set1.add(3000)"
   ]
  },
  {
   "cell_type": "code",
   "execution_count": 4,
   "id": "97134dcb-6d98-4d61-a095-e80ffff40195",
   "metadata": {},
   "outputs": [],
   "source": [
    "set1.add(100)"
   ]
  },
  {
   "cell_type": "code",
   "execution_count": 5,
   "id": "1cbc39f5-be8e-449e-adfd-0c4851789b76",
   "metadata": {},
   "outputs": [
    {
     "data": {
      "text/plain": [
       "{(4, 3, 34, 56, 3), 1, 100, 2, 3, 3000, 34}"
      ]
     },
     "execution_count": 5,
     "metadata": {},
     "output_type": "execute_result"
    }
   ],
   "source": [
    "set1"
   ]
  },
  {
   "cell_type": "code",
   "execution_count": 6,
   "id": "bb8d5731-0369-47f9-948a-f8692d05de69",
   "metadata": {},
   "outputs": [],
   "source": [
    "set1.update([12,90,60])"
   ]
  },
  {
   "cell_type": "code",
   "execution_count": 8,
   "id": "74357020-45b3-486a-8e58-8bb150b0dc6e",
   "metadata": {},
   "outputs": [],
   "source": [
    "set1.remove(100)"
   ]
  },
  {
   "cell_type": "code",
   "execution_count": 9,
   "id": "ecc07127-f419-44cc-aca2-b1f3cecdea42",
   "metadata": {},
   "outputs": [
    {
     "data": {
      "text/plain": [
       "{(4, 3, 34, 56, 3), 1, 12, 2, 3, 3000, 34, 60, 90}"
      ]
     },
     "execution_count": 9,
     "metadata": {},
     "output_type": "execute_result"
    }
   ],
   "source": [
    "set1"
   ]
  },
  {
   "cell_type": "code",
   "execution_count": 12,
   "id": "5b3bdd63-eb7b-42c8-a981-61b4dbf5c1c7",
   "metadata": {},
   "outputs": [],
   "source": [
    "set1.discard(2)"
   ]
  },
  {
   "cell_type": "code",
   "execution_count": 13,
   "id": "89f8f2e1-582f-48e7-bc1e-822f9750764b",
   "metadata": {},
   "outputs": [
    {
     "data": {
      "text/plain": [
       "{(4, 3, 34, 56, 3), 1, 12, 3, 3000, 34, 60, 90}"
      ]
     },
     "execution_count": 13,
     "metadata": {},
     "output_type": "execute_result"
    }
   ],
   "source": [
    "set1"
   ]
  },
  {
   "cell_type": "code",
   "execution_count": 14,
   "id": "69ae8fe0-d929-4863-a146-096cc26c019d",
   "metadata": {},
   "outputs": [
    {
     "data": {
      "text/plain": [
       "True"
      ]
     },
     "execution_count": 14,
     "metadata": {},
     "output_type": "execute_result"
    }
   ],
   "source": [
    "90 in set1"
   ]
  },
  {
   "cell_type": "code",
   "execution_count": 15,
   "id": "3b000489-8089-4bb9-a25c-48a57142bdf5",
   "metadata": {},
   "outputs": [
    {
     "data": {
      "text/plain": [
       "1"
      ]
     },
     "execution_count": 15,
     "metadata": {},
     "output_type": "execute_result"
    }
   ],
   "source": [
    "set1.pop()"
   ]
  },
  {
   "cell_type": "code",
   "execution_count": 16,
   "id": "c700a979-b332-493e-91f7-1904fadd9dd3",
   "metadata": {},
   "outputs": [
    {
     "data": {
      "text/plain": [
       "{(4, 3, 34, 56, 3), 12, 3, 3000, 34, 60, 90}"
      ]
     },
     "execution_count": 16,
     "metadata": {},
     "output_type": "execute_result"
    }
   ],
   "source": [
    "set1"
   ]
  },
  {
   "cell_type": "code",
   "execution_count": 17,
   "id": "70ef5f7f-2284-44d8-b45c-82cb657eb37c",
   "metadata": {},
   "outputs": [],
   "source": [
    "set1.discard(2)"
   ]
  },
  {
   "cell_type": "code",
   "execution_count": 20,
   "id": "d085c82f-4b88-48a5-a09d-11737b4d8b3f",
   "metadata": {},
   "outputs": [],
   "source": [
    "set1.remove(90)"
   ]
  },
  {
   "cell_type": "code",
   "execution_count": 21,
   "id": "fe62d86d-e65d-4346-9aa6-f5123710a7df",
   "metadata": {},
   "outputs": [
    {
     "data": {
      "text/plain": [
       "{(4, 3, 34, 56, 3), 12, 3, 3000, 34, 60}"
      ]
     },
     "execution_count": 21,
     "metadata": {},
     "output_type": "execute_result"
    }
   ],
   "source": [
    "set1"
   ]
  },
  {
   "cell_type": "code",
   "execution_count": 22,
   "id": "db5e1ded-53ef-40db-8633-e311cea9fdee",
   "metadata": {},
   "outputs": [],
   "source": [
    "set1.clear()"
   ]
  },
  {
   "cell_type": "code",
   "execution_count": 23,
   "id": "fd601992-c2d1-4d17-a948-dea3d6373e83",
   "metadata": {},
   "outputs": [
    {
     "data": {
      "text/plain": [
       "set()"
      ]
     },
     "execution_count": 23,
     "metadata": {},
     "output_type": "execute_result"
    }
   ],
   "source": [
    "set1"
   ]
  },
  {
   "cell_type": "code",
   "execution_count": null,
   "id": "12563105-6315-4628-844b-14b616fe8691",
   "metadata": {},
   "outputs": [],
   "source": []
  }
 ],
 "metadata": {
  "kernelspec": {
   "display_name": "Python 3 (ipykernel)",
   "language": "python",
   "name": "python3"
  },
  "language_info": {
   "codemirror_mode": {
    "name": "ipython",
    "version": 3
   },
   "file_extension": ".py",
   "mimetype": "text/x-python",
   "name": "python",
   "nbconvert_exporter": "python",
   "pygments_lexer": "ipython3",
   "version": "3.13.5"
  }
 },
 "nbformat": 4,
 "nbformat_minor": 5
}
