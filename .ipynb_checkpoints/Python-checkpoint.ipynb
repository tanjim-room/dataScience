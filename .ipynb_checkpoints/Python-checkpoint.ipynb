{
 "cells": [
  {
   "cell_type": "code",
   "execution_count": 1,
   "id": "48e62976-1af6-4aad-a569-9cd42849d25a",
   "metadata": {},
   "outputs": [
    {
     "name": "stdout",
     "output_type": "stream",
     "text": [
      "jello\n"
     ]
    }
   ],
   "source": [
    "print(\"jello\")\n",
    "      "
   ]
  },
  {
   "cell_type": "code",
   "execution_count": 2,
   "id": "f24c01c8-f869-43e5-9387-eb2aec669f78",
   "metadata": {},
   "outputs": [
    {
     "data": {
      "text/plain": [
       "6"
      ]
     },
     "execution_count": 2,
     "metadata": {},
     "output_type": "execute_result"
    }
   ],
   "source": [
    "6-0"
   ]
  },
  {
   "cell_type": "code",
   "execution_count": 6,
   "id": "36eb5f90-2414-4e12-af62-6bb02076c872",
   "metadata": {},
   "outputs": [
    {
     "name": "stdout",
     "output_type": "stream",
     "text": [
      "A-\n"
     ]
    }
   ],
   "source": [
    "# If Else Statements\n",
    "#====================\n",
    "x = 0\n",
    "if(x>5):\n",
    "    print(\"x is greater than 5\")\n",
    "mark = 75\n",
    "if(mark > 80):\n",
    "    print(\"A+\")\n",
    "elif(mark>75):\n",
    "    print(\"A\")\n",
    "elif(mark>70):\n",
    "    print(\"A-\")"
   ]
  },
  {
   "cell_type": "code",
   "execution_count": 21,
   "id": "90fc4407-5cdc-47c4-bdbe-7715cf642b0a",
   "metadata": {},
   "outputs": [
    {
     "name": "stdout",
     "output_type": "stream",
     "text": [
      "Odd\n"
     ]
    }
   ],
   "source": [
    "# Nested If Else\n",
    "#===================\n",
    "\n",
    "number = 93\n",
    "if(number>0):\n",
    "    if(number % 2 == 0):\n",
    "        print(\"Even\")\n",
    "    else:\n",
    "        print(\"Odd\")\n",
    "else:\n",
    "    print(\"Negative\")"
   ]
  },
  {
   "cell_type": "code",
   "execution_count": 23,
   "id": "421cac5a-fcd3-4109-948d-ab859e895768",
   "metadata": {},
   "outputs": [
    {
     "name": "stdin",
     "output_type": "stream",
     "text": [
      "enter rakib\n"
     ]
    },
    {
     "name": "stdout",
     "output_type": "stream",
     "text": [
      "rakib\n"
     ]
    }
   ],
   "source": [
    "# Input Taken\n",
    "#==================\n",
    "\n",
    "a = input(\"enter\")\n",
    "print(a)"
   ]
  },
  {
   "cell_type": "code",
   "execution_count": 26,
   "id": "1fa83b6d-b0a6-44a9-a184-945e9573abf3",
   "metadata": {},
   "outputs": [
    {
     "name": "stdin",
     "output_type": "stream",
     "text": [
      "Enter a number 78\n"
     ]
    },
    {
     "name": "stdout",
     "output_type": "stream",
     "text": [
      "78\n"
     ]
    }
   ],
   "source": [
    "# Input Type Cast\n",
    "#====================\n",
    "\n",
    "number = input(\"Enter a number\")\n",
    "int(number)\n",
    "print(number)"
   ]
  },
  {
   "cell_type": "code",
   "execution_count": 51,
   "id": "0090d40c-2308-4cf0-80cc-9b2957e8892c",
   "metadata": {},
   "outputs": [
    {
     "name": "stdout",
     "output_type": "stream",
     "text": [
      "1\n",
      "10\n",
      "19\n",
      "28\n",
      "37\n",
      "46\n",
      "55\n",
      "64\n",
      "73\n",
      "82\n",
      "91\n",
      "100\n",
      "100\n",
      "95\n",
      "90\n",
      "85\n",
      "80\n",
      "75\n",
      "70\n",
      "65\n",
      "60\n",
      "55\n",
      "50\n",
      "45\n",
      "40\n",
      "35\n",
      "30\n",
      "25\n",
      "20\n",
      "15\n",
      "10\n",
      "5\n"
     ]
    }
   ],
   "source": [
    "# Range & Loop\n",
    "# Range(start, stop, step)\n",
    "# for i in range(1, 101, 1):\n",
    "\n",
    "\n",
    "for i in range(1,101,9):\n",
    "    print(i)\n",
    "    \n",
    "for i in range(100,0,-5):\n",
    "    print(i)\n",
    "\n"
   ]
  },
  {
   "cell_type": "code",
   "execution_count": 59,
   "id": "19ff1796-2d8d-4ebd-a78f-5fba2cee2722",
   "metadata": {},
   "outputs": [
    {
     "name": "stdout",
     "output_type": "stream",
     "text": [
      "\n",
      "* \n",
      "* * \n",
      "* * * \n",
      "* * * * \n"
     ]
    }
   ],
   "source": [
    "for i in range(0,5):\n",
    "    for j in range(0,i):\n",
    "        print(\"*\",end=\" \")\n",
    "    print()\n",
    "        \n",
    "    \n",
    " \n"
   ]
  },
  {
   "cell_type": "code",
   "execution_count": 67,
   "id": "ab14c890-6902-4dd2-83e4-ffcefe919a8c",
   "metadata": {},
   "outputs": [
    {
     "name": "stdout",
     "output_type": "stream",
     "text": [
      "66\n"
     ]
    }
   ],
   "source": [
    "l = [1,2,3,4,5,6,7,8,9,10,11]\n",
    "cont = 0\n",
    "for i in l:\n",
    "    if(i % 2 == 0):\n",
    "        cont \n",
    "    cont = cont + i\n",
    "\n",
    "print(cont)\n"
   ]
  },
  {
   "cell_type": "code",
   "execution_count": 79,
   "id": "f76167ac-46a0-4063-b8da-0b324eafc67d",
   "metadata": {},
   "outputs": [],
   "source": [
    "\n",
    "while i <= 5:\n",
    "    print(i)\n",
    "    i=i+1\n"
   ]
  },
  {
   "cell_type": "code",
   "execution_count": 81,
   "id": "d89cfa04-16f3-4537-8e61-2bb34dd7026b",
   "metadata": {},
   "outputs": [
    {
     "name": "stdout",
     "output_type": "stream",
     "text": [
      "15\n"
     ]
    }
   ],
   "source": [
    "# Function in Python use def\n",
    "#=====================\n",
    "\n",
    "def add(a,b):\n",
    "    summ = a+b\n",
    "    print(summ)\n",
    "\n",
    "add(6,9)\n"
   ]
  },
  {
   "cell_type": "code",
   "execution_count": 85,
   "id": "2059a143-d771-4767-9e10-b1dc6143e0ec",
   "metadata": {},
   "outputs": [
    {
     "name": "stdout",
     "output_type": "stream",
     "text": [
      "24\n"
     ]
    }
   ],
   "source": [
    "# Factorial \n",
    "#=====================\n",
    "\n",
    "def add(num):\n",
    "    m = 1\n",
    "    for i in range(1,num):\n",
    "        m = m * i\n",
    "    print(m)\n",
    "\n",
    "add(5)\n"
   ]
  },
  {
   "cell_type": "code",
   "execution_count": null,
   "id": "6bf8dacd-4fbb-4325-9233-d4eedf4044ac",
   "metadata": {},
   "outputs": [],
   "source": [
    "# Determine list sum use a Function\n",
    "#====================================\n",
    "\n",
    "\n",
    "\n"
   ]
  }
 ],
 "metadata": {
  "kernelspec": {
   "display_name": "Python 3 (ipykernel)",
   "language": "python",
   "name": "python3"
  },
  "language_info": {
   "codemirror_mode": {
    "name": "ipython",
    "version": 3
   },
   "file_extension": ".py",
   "mimetype": "text/x-python",
   "name": "python",
   "nbconvert_exporter": "python",
   "pygments_lexer": "ipython3",
   "version": "3.13.5"
  }
 },
 "nbformat": 4,
 "nbformat_minor": 5
}
