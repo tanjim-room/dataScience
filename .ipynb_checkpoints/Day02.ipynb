{
 "cells": [
  {
   "cell_type": "code",
   "execution_count": 6,
   "id": "c09b4b16-04b3-46e2-bf4c-8657c701b3e2",
   "metadata": {},
   "outputs": [
    {
     "name": "stdout",
     "output_type": "stream",
     "text": [
      "Hello/Welcome to Bangladesh! "
     ]
    }
   ],
   "source": [
    "#Print Function & It's arguments\n",
    "\n",
    "print(\"Hello\", \"Welcome to Bangladesh!\", sep='/', end=' ')"
   ]
  },
  {
   "cell_type": "code",
   "execution_count": 8,
   "id": "8019c750-e961-4180-be54-6ad6f2d2c280",
   "metadata": {},
   "outputs": [],
   "source": [
    "var = \"I am Tanjim\""
   ]
  },
  {
   "cell_type": "code",
   "execution_count": 9,
   "id": "a58294ac-fb0a-4520-8450-196a41b19e42",
   "metadata": {},
   "outputs": [
    {
     "name": "stdout",
     "output_type": "stream",
     "text": [
      "I am Tanjim\n"
     ]
    }
   ],
   "source": [
    "print(var)"
   ]
  },
  {
   "cell_type": "code",
   "execution_count": 10,
   "id": "541b0d7d-4f30-4bf3-8238-b8a07410b8de",
   "metadata": {},
   "outputs": [
    {
     "data": {
      "text/plain": [
       "3113527826544"
      ]
     },
     "execution_count": 10,
     "metadata": {},
     "output_type": "execute_result"
    }
   ],
   "source": [
    "#See Variable Location\n",
    "id(var)"
   ]
  },
  {
   "cell_type": "code",
   "execution_count": 11,
   "id": "579bfd4e-0d22-4f13-9114-ea2555679eb0",
   "metadata": {},
   "outputs": [
    {
     "data": {
      "text/plain": [
       "52"
      ]
     },
     "execution_count": 11,
     "metadata": {},
     "output_type": "execute_result"
    }
   ],
   "source": [
    "#See Size of Variable\n",
    "import sys\n",
    "sys.getsizeof(var)"
   ]
  },
  {
   "cell_type": "code",
   "execution_count": 12,
   "id": "eff33c7f-122b-4e16-ab8b-e5ec27913e21",
   "metadata": {},
   "outputs": [],
   "source": [
    "x = 120\n"
   ]
  },
  {
   "cell_type": "code",
   "execution_count": 13,
   "id": "8bbab9c6-f2ac-4fd1-a8a3-6886c357e603",
   "metadata": {},
   "outputs": [
    {
     "data": {
      "text/plain": [
       "120"
      ]
     },
     "execution_count": 13,
     "metadata": {},
     "output_type": "execute_result"
    }
   ],
   "source": [
    "x"
   ]
  },
  {
   "cell_type": "code",
   "execution_count": 14,
   "id": "99ba80be-cc10-4ae7-b1aa-182a86cd7c6e",
   "metadata": {},
   "outputs": [],
   "source": [
    "y = 130\n"
   ]
  },
  {
   "cell_type": "code",
   "execution_count": 15,
   "id": "9e1a7224-6472-4239-9c19-976cb81b5838",
   "metadata": {},
   "outputs": [
    {
     "data": {
      "text/plain": [
       "140716635898504"
      ]
     },
     "execution_count": 15,
     "metadata": {},
     "output_type": "execute_result"
    }
   ],
   "source": [
    "id(x)"
   ]
  },
  {
   "cell_type": "code",
   "execution_count": 16,
   "id": "527e3e10-d579-4c31-aaa6-60e8660babca",
   "metadata": {},
   "outputs": [
    {
     "data": {
      "text/plain": [
       "140716635898824"
      ]
     },
     "execution_count": 16,
     "metadata": {},
     "output_type": "execute_result"
    }
   ],
   "source": [
    "id(y)"
   ]
  },
  {
   "cell_type": "code",
   "execution_count": 17,
   "id": "f6182b69-de16-41ed-9f06-aed98e82c678",
   "metadata": {},
   "outputs": [],
   "source": [
    "z=120"
   ]
  },
  {
   "cell_type": "code",
   "execution_count": 18,
   "id": "f652d86c-3a2f-49b0-bc48-691e90ca735a",
   "metadata": {},
   "outputs": [
    {
     "data": {
      "text/plain": [
       "140716635898504"
      ]
     },
     "execution_count": 18,
     "metadata": {},
     "output_type": "execute_result"
    }
   ],
   "source": [
    "id(z)"
   ]
  },
  {
   "cell_type": "code",
   "execution_count": 19,
   "id": "9be3d826-2fb8-412f-a066-e7cf2b033810",
   "metadata": {},
   "outputs": [],
   "source": [
    "a = 1000"
   ]
  },
  {
   "cell_type": "code",
   "execution_count": 20,
   "id": "c71a1982-5771-4862-8483-2ebca13c1c53",
   "metadata": {},
   "outputs": [],
   "source": [
    "b = 1000"
   ]
  },
  {
   "cell_type": "code",
   "execution_count": 21,
   "id": "91e9ea2e-0438-4986-ac78-0d962863bfbc",
   "metadata": {},
   "outputs": [
    {
     "data": {
      "text/plain": [
       "3113527078288"
      ]
     },
     "execution_count": 21,
     "metadata": {},
     "output_type": "execute_result"
    }
   ],
   "source": [
    "id(a)"
   ]
  },
  {
   "cell_type": "code",
   "execution_count": 22,
   "id": "81025851-eb3d-4316-820a-86755a7aedf1",
   "metadata": {},
   "outputs": [
    {
     "data": {
      "text/plain": [
       "3113527078224"
      ]
     },
     "execution_count": 22,
     "metadata": {},
     "output_type": "execute_result"
    }
   ],
   "source": [
    "id(b)"
   ]
  },
  {
   "cell_type": "code",
   "execution_count": 23,
   "id": "c95b9044-46a1-41fd-add9-d0378ef4d680",
   "metadata": {},
   "outputs": [],
   "source": [
    "#Multiple Variable Declare\n",
    "x,y,z = 20, 30, 40\n"
   ]
  },
  {
   "cell_type": "code",
   "execution_count": 24,
   "id": "9d939e96-720c-4075-9775-47dfa38b9f62",
   "metadata": {},
   "outputs": [
    {
     "data": {
      "text/plain": [
       "20"
      ]
     },
     "execution_count": 24,
     "metadata": {},
     "output_type": "execute_result"
    }
   ],
   "source": [
    "x\n"
   ]
  },
  {
   "cell_type": "code",
   "execution_count": 25,
   "id": "e42dbd49-6003-49f9-8494-433e1a02623e",
   "metadata": {},
   "outputs": [
    {
     "data": {
      "text/plain": [
       "30"
      ]
     },
     "execution_count": 25,
     "metadata": {},
     "output_type": "execute_result"
    }
   ],
   "source": [
    "y"
   ]
  },
  {
   "cell_type": "code",
   "execution_count": 26,
   "id": "ee41d1f9-0c74-40ea-8029-c29464a1938f",
   "metadata": {},
   "outputs": [
    {
     "data": {
      "text/plain": [
       "40"
      ]
     },
     "execution_count": 26,
     "metadata": {},
     "output_type": "execute_result"
    }
   ],
   "source": [
    "z"
   ]
  },
  {
   "cell_type": "code",
   "execution_count": 27,
   "id": "4be14f1f-afaa-4912-87e0-ade6ed084250",
   "metadata": {},
   "outputs": [],
   "source": [
    "X = 90"
   ]
  },
  {
   "cell_type": "code",
   "execution_count": 28,
   "id": "06b631c2-f74d-4e23-a56d-1183220e7087",
   "metadata": {},
   "outputs": [
    {
     "data": {
      "text/plain": [
       "20"
      ]
     },
     "execution_count": 28,
     "metadata": {},
     "output_type": "execute_result"
    }
   ],
   "source": [
    "x"
   ]
  },
  {
   "cell_type": "code",
   "execution_count": 29,
   "id": "d29bf508-1566-4465-a749-5324c913cd06",
   "metadata": {},
   "outputs": [],
   "source": [
    "x = 50"
   ]
  },
  {
   "cell_type": "code",
   "execution_count": 30,
   "id": "c0461169-a1e3-4ca1-855f-db035aabff19",
   "metadata": {},
   "outputs": [
    {
     "data": {
      "text/plain": [
       "50"
      ]
     },
     "execution_count": 30,
     "metadata": {},
     "output_type": "execute_result"
    }
   ],
   "source": [
    "x"
   ]
  },
  {
   "cell_type": "code",
   "execution_count": 31,
   "id": "86e81108-3364-485e-a194-b6d035534ebc",
   "metadata": {},
   "outputs": [
    {
     "data": {
      "text/plain": [
       "90"
      ]
     },
     "execution_count": 31,
     "metadata": {},
     "output_type": "execute_result"
    }
   ],
   "source": [
    "X"
   ]
  },
  {
   "cell_type": "code",
   "execution_count": null,
   "id": "457454e4-392d-4e9a-bfe2-f0a475faba00",
   "metadata": {},
   "outputs": [],
   "source": [
    "#Variable Name Case"
   ]
  },
  {
   "cell_type": "code",
   "execution_count": 41,
   "id": "2ee55d8c-d4a0-4130-8cfb-f682688336fb",
   "metadata": {},
   "outputs": [
    {
     "name": "stdout",
     "output_type": "stream",
     "text": [
      "20\n",
      "20\n",
      "80\n"
     ]
    }
   ],
   "source": [
    "#Local Vs Global Variable\n",
    "x = 1000;\n",
    "\n",
    "def f1():\n",
    "    x = 10\n",
    "    k  = 80\n",
    "    print(x)\n",
    "f1()\n",
    "\n",
    "print(x)\n",
    "print(k)"
   ]
  },
  {
   "cell_type": "code",
   "execution_count": 43,
   "id": "04e317ed-9d0a-49f3-a3e4-327647a0781d",
   "metadata": {},
   "outputs": [
    {
     "name": "stdout",
     "output_type": "stream",
     "text": [
      "10\n",
      "10\n",
      "80\n"
     ]
    }
   ],
   "source": [
    "#global Keyword\n",
    "x = 1000;\n",
    "\n",
    "def f1():\n",
    "    global x\n",
    "    x = 10\n",
    "    k  = 80\n",
    "    print(x)\n",
    "f1()\n",
    "\n",
    "print(x)\n",
    "print(k)"
   ]
  },
  {
   "cell_type": "code",
   "execution_count": null,
   "id": "534d53d0-8b98-4b16-9c18-b28d13640896",
   "metadata": {},
   "outputs": [],
   "source": []
  }
 ],
 "metadata": {
  "kernelspec": {
   "display_name": "Python 3 (ipykernel)",
   "language": "python",
   "name": "python3"
  },
  "language_info": {
   "codemirror_mode": {
    "name": "ipython",
    "version": 3
   },
   "file_extension": ".py",
   "mimetype": "text/x-python",
   "name": "python",
   "nbconvert_exporter": "python",
   "pygments_lexer": "ipython3",
   "version": "3.13.5"
  }
 },
 "nbformat": 4,
 "nbformat_minor": 5
}
