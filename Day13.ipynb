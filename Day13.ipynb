{
 "cells": [
  {
   "cell_type": "code",
   "execution_count": 1,
   "id": "09a7fee1-10b8-4d85-9aa6-330832ff166a",
   "metadata": {},
   "outputs": [],
   "source": [
    "# List Methods\n",
    "# copy()\n",
    "list1 = [6,8,9,3,5]\n"
   ]
  },
  {
   "cell_type": "code",
   "execution_count": 2,
   "id": "fe15433c-8f74-45d9-8365-ac1315d32542",
   "metadata": {},
   "outputs": [
    {
     "data": {
      "text/plain": [
       "3"
      ]
     },
     "execution_count": 2,
     "metadata": {},
     "output_type": "execute_result"
    }
   ],
   "source": [
    "list1[-2]"
   ]
  },
  {
   "cell_type": "code",
   "execution_count": 3,
   "id": "622d34a3-1e98-45e7-82f2-b76a77acdaec",
   "metadata": {},
   "outputs": [
    {
     "data": {
      "text/plain": [
       "[6, 8, 9, 3, 5]"
      ]
     },
     "execution_count": 3,
     "metadata": {},
     "output_type": "execute_result"
    }
   ],
   "source": [
    "list2 = list1\n",
    "list2"
   ]
  },
  {
   "cell_type": "code",
   "execution_count": 5,
   "id": "df19fa0a-3672-4a95-b90f-b7c2891d6647",
   "metadata": {},
   "outputs": [],
   "source": [
    "list1.append(\"Rakib\")"
   ]
  },
  {
   "cell_type": "code",
   "execution_count": 6,
   "id": "958d90b1-c66f-4d9d-aefd-2924375f0ebe",
   "metadata": {},
   "outputs": [
    {
     "data": {
      "text/plain": [
       "[6, 8, 9, 3, 5, 'Rakib', 'Rakib']"
      ]
     },
     "execution_count": 6,
     "metadata": {},
     "output_type": "execute_result"
    }
   ],
   "source": [
    "list1"
   ]
  },
  {
   "cell_type": "code",
   "execution_count": 7,
   "id": "1b8677c8-00a1-403a-975f-fbdf146d7e0a",
   "metadata": {},
   "outputs": [
    {
     "data": {
      "text/plain": [
       "[6, 8, 9, 3, 5, 'Rakib', 'Rakib']"
      ]
     },
     "execution_count": 7,
     "metadata": {},
     "output_type": "execute_result"
    }
   ],
   "source": [
    "list2"
   ]
  },
  {
   "cell_type": "code",
   "execution_count": 8,
   "id": "fb902719-5a62-4cde-89e7-c5d2f21f65ae",
   "metadata": {},
   "outputs": [],
   "source": [
    "list3 = list1.copy()"
   ]
  },
  {
   "cell_type": "code",
   "execution_count": 9,
   "id": "e2700fdf-640e-47ac-9ae9-098a35180e5f",
   "metadata": {},
   "outputs": [],
   "source": [
    "list1.append(\"Go\")"
   ]
  },
  {
   "cell_type": "code",
   "execution_count": 10,
   "id": "108e0a83-3e19-4d51-92b0-3054d6dbdf8e",
   "metadata": {},
   "outputs": [
    {
     "data": {
      "text/plain": [
       "[6, 8, 9, 3, 5, 'Rakib', 'Rakib', 'Go']"
      ]
     },
     "execution_count": 10,
     "metadata": {},
     "output_type": "execute_result"
    }
   ],
   "source": [
    "list1"
   ]
  },
  {
   "cell_type": "code",
   "execution_count": 11,
   "id": "d4ce4a4b-a68c-4d49-ab11-d431a5e64fe4",
   "metadata": {},
   "outputs": [
    {
     "data": {
      "text/plain": [
       "[6, 8, 9, 3, 5, 'Rakib', 'Rakib', 'Go']"
      ]
     },
     "execution_count": 11,
     "metadata": {},
     "output_type": "execute_result"
    }
   ],
   "source": [
    "list2"
   ]
  },
  {
   "cell_type": "code",
   "execution_count": 12,
   "id": "e5ba4722-3379-4253-bbde-06325035a94d",
   "metadata": {},
   "outputs": [
    {
     "data": {
      "text/plain": [
       "[6, 8, 9, 3, 5, 'Rakib', 'Rakib']"
      ]
     },
     "execution_count": 12,
     "metadata": {},
     "output_type": "execute_result"
    }
   ],
   "source": [
    "list3"
   ]
  },
  {
   "cell_type": "code",
   "execution_count": 13,
   "id": "ebb917fb-655f-4594-97cd-6f1fe812876f",
   "metadata": {},
   "outputs": [],
   "source": [
    "list3.append(\"Tanjim\")"
   ]
  },
  {
   "cell_type": "code",
   "execution_count": 14,
   "id": "3d010ba7-b0cf-4c50-a645-281047612399",
   "metadata": {},
   "outputs": [
    {
     "data": {
      "text/plain": [
       "[6, 8, 9, 3, 5, 'Rakib', 'Rakib', 'Tanjim']"
      ]
     },
     "execution_count": 14,
     "metadata": {},
     "output_type": "execute_result"
    }
   ],
   "source": [
    "list3"
   ]
  },
  {
   "cell_type": "code",
   "execution_count": 15,
   "id": "65f2c9ad-7579-4bc9-902a-8cd3fade8462",
   "metadata": {},
   "outputs": [
    {
     "data": {
      "text/plain": [
       "[6, 8, 9, 3, 5, 'Rakib', 'Rakib', 'Go']"
      ]
     },
     "execution_count": 15,
     "metadata": {},
     "output_type": "execute_result"
    }
   ],
   "source": [
    "list1\n"
   ]
  },
  {
   "cell_type": "code",
   "execution_count": 16,
   "id": "14683c3f-d4b2-4f3b-9d20-6fc1d014bd51",
   "metadata": {},
   "outputs": [],
   "source": [
    "# append() \n",
    "list4 = [90, 70, 50]"
   ]
  },
  {
   "cell_type": "code",
   "execution_count": 17,
   "id": "53638b57-0cac-4ca0-a7cc-09b8014425a0",
   "metadata": {},
   "outputs": [
    {
     "data": {
      "text/plain": [
       "[90, 70, 50]"
      ]
     },
     "execution_count": 17,
     "metadata": {},
     "output_type": "execute_result"
    }
   ],
   "source": [
    "list4"
   ]
  },
  {
   "cell_type": "code",
   "execution_count": 18,
   "id": "a62e48df-0d3f-473a-84b7-18e4aca8b433",
   "metadata": {},
   "outputs": [],
   "source": [
    "list5  = [\"Arafat\", \"Sakib\"] "
   ]
  },
  {
   "cell_type": "code",
   "execution_count": 20,
   "id": "5e145f6a-63a3-444e-af4a-65cec24e8b93",
   "metadata": {},
   "outputs": [],
   "source": [
    "list4.append(list5)"
   ]
  },
  {
   "cell_type": "code",
   "execution_count": 21,
   "id": "6d8783e0-fb05-495c-9e58-d660cf385d66",
   "metadata": {},
   "outputs": [
    {
     "data": {
      "text/plain": [
       "[90, 70, 50, ['Arafat', 'Sakib']]"
      ]
     },
     "execution_count": 21,
     "metadata": {},
     "output_type": "execute_result"
    }
   ],
   "source": [
    "list4"
   ]
  },
  {
   "cell_type": "code",
   "execution_count": 22,
   "id": "5566a5b2-feeb-4f1c-b94e-de61b8c7e81f",
   "metadata": {},
   "outputs": [
    {
     "data": {
      "text/plain": [
       "['Arafat', 'Sakib']"
      ]
     },
     "execution_count": 22,
     "metadata": {},
     "output_type": "execute_result"
    }
   ],
   "source": [
    "list5"
   ]
  },
  {
   "cell_type": "code",
   "execution_count": 23,
   "id": "171b1624-9cfb-4800-a70b-c518cddba559",
   "metadata": {},
   "outputs": [],
   "source": [
    "list6 = [1,2,3]"
   ]
  },
  {
   "cell_type": "code",
   "execution_count": 24,
   "id": "dc73a181-13d7-4ecd-abec-78b9279a5a60",
   "metadata": {},
   "outputs": [],
   "source": [
    "# extend()\n",
    "list6.extend(list5)"
   ]
  },
  {
   "cell_type": "code",
   "execution_count": 25,
   "id": "3e8674d8-2040-4bb4-ae60-59f82b906445",
   "metadata": {},
   "outputs": [
    {
     "data": {
      "text/plain": [
       "[1, 2, 3, 'Arafat', 'Sakib']"
      ]
     },
     "execution_count": 25,
     "metadata": {},
     "output_type": "execute_result"
    }
   ],
   "source": [
    "list6"
   ]
  },
  {
   "cell_type": "code",
   "execution_count": 26,
   "id": "e7d74a16-39d8-4587-ae4b-79bd0ff19f7e",
   "metadata": {},
   "outputs": [],
   "source": [
    "# insert()\n",
    "list6.insert(2,\"Tan\")"
   ]
  },
  {
   "cell_type": "code",
   "execution_count": 27,
   "id": "36c77bb2-b220-46ac-ad9c-e82792a66490",
   "metadata": {},
   "outputs": [
    {
     "data": {
      "text/plain": [
       "[1, 2, 'Tan', 3, 'Arafat', 'Sakib']"
      ]
     },
     "execution_count": 27,
     "metadata": {},
     "output_type": "execute_result"
    }
   ],
   "source": [
    "list6"
   ]
  },
  {
   "cell_type": "code",
   "execution_count": 30,
   "id": "8876c6ce-4262-4b77-8de3-36ca8dd449f2",
   "metadata": {},
   "outputs": [
    {
     "data": {
      "text/plain": [
       "2"
      ]
     },
     "execution_count": 30,
     "metadata": {},
     "output_type": "execute_result"
    }
   ],
   "source": [
    "# index\n",
    "list6.index(\"Tan\")"
   ]
  },
  {
   "cell_type": "code",
   "execution_count": 31,
   "id": "974129a7-3f88-4529-b62a-7c10647e820d",
   "metadata": {},
   "outputs": [],
   "source": [
    "# count()\n",
    "list7 = [11, 45, 76, 11, 23, 11, 23, 90]"
   ]
  },
  {
   "cell_type": "code",
   "execution_count": 32,
   "id": "eef9a7c1-5991-4848-8674-e8440576eee3",
   "metadata": {},
   "outputs": [
    {
     "data": {
      "text/plain": [
       "[11, 45, 76, 11, 23, 11, 23, 90]"
      ]
     },
     "execution_count": 32,
     "metadata": {},
     "output_type": "execute_result"
    }
   ],
   "source": [
    "list7"
   ]
  },
  {
   "cell_type": "code",
   "execution_count": 33,
   "id": "8df9028b-0f11-4ade-b3c1-ac44f3a328b5",
   "metadata": {},
   "outputs": [
    {
     "data": {
      "text/plain": [
       "3"
      ]
     },
     "execution_count": 33,
     "metadata": {},
     "output_type": "execute_result"
    }
   ],
   "source": [
    "list7.count(11)"
   ]
  },
  {
   "cell_type": "code",
   "execution_count": 34,
   "id": "f36898ed-960a-4819-a960-f82248590e75",
   "metadata": {},
   "outputs": [
    {
     "data": {
      "text/plain": [
       "2"
      ]
     },
     "execution_count": 34,
     "metadata": {},
     "output_type": "execute_result"
    }
   ],
   "source": [
    "list7.count(23)"
   ]
  },
  {
   "cell_type": "code",
   "execution_count": 36,
   "id": "66fe2cfd-2a43-4b6a-993a-b820abba8e3a",
   "metadata": {},
   "outputs": [
    {
     "data": {
      "text/plain": [
       "1"
      ]
     },
     "execution_count": 36,
     "metadata": {},
     "output_type": "execute_result"
    }
   ],
   "source": [
    "list7.count(90)"
   ]
  },
  {
   "cell_type": "code",
   "execution_count": 38,
   "id": "ea7d60be-58e5-466c-8fba-6271b9573d67",
   "metadata": {},
   "outputs": [],
   "source": [
    "# sort()\n",
    "list7.sort()"
   ]
  },
  {
   "cell_type": "code",
   "execution_count": 39,
   "id": "85913531-b955-4a37-8619-05ba77acbc0a",
   "metadata": {},
   "outputs": [
    {
     "data": {
      "text/plain": [
       "[11, 11, 11, 23, 23, 45, 76, 90]"
      ]
     },
     "execution_count": 39,
     "metadata": {},
     "output_type": "execute_result"
    }
   ],
   "source": [
    "list7"
   ]
  },
  {
   "cell_type": "code",
   "execution_count": 40,
   "id": "954fb4a8-f75d-4553-8cf0-1430a1a6cdb0",
   "metadata": {},
   "outputs": [],
   "source": [
    "# reverse()\n",
    "list7.reverse()"
   ]
  },
  {
   "cell_type": "code",
   "execution_count": 41,
   "id": "9bb00df2-4118-4555-b1b0-7ab0ca1872bf",
   "metadata": {},
   "outputs": [
    {
     "data": {
      "text/plain": [
       "[90, 76, 45, 23, 23, 11, 11, 11]"
      ]
     },
     "execution_count": 41,
     "metadata": {},
     "output_type": "execute_result"
    }
   ],
   "source": [
    "list7"
   ]
  },
  {
   "cell_type": "code",
   "execution_count": 42,
   "id": "daedf288-90a9-47d1-a0bc-74db23478a70",
   "metadata": {},
   "outputs": [],
   "source": [
    "# remove()\n",
    "list8 = [90,89,76,90,88,67]\n",
    "list8.remove(76)"
   ]
  },
  {
   "cell_type": "code",
   "execution_count": 43,
   "id": "294a541e-c244-4787-be50-e5d8f361745e",
   "metadata": {},
   "outputs": [
    {
     "data": {
      "text/plain": [
       "[90, 89, 90, 88, 67]"
      ]
     },
     "execution_count": 43,
     "metadata": {},
     "output_type": "execute_result"
    }
   ],
   "source": [
    "list8"
   ]
  },
  {
   "cell_type": "code",
   "execution_count": 44,
   "id": "c1ef922e-8e93-4591-af3d-3b79777c5af9",
   "metadata": {},
   "outputs": [
    {
     "data": {
      "text/plain": [
       "90"
      ]
     },
     "execution_count": 44,
     "metadata": {},
     "output_type": "execute_result"
    }
   ],
   "source": [
    "# pop()\n",
    "list8.pop(0)"
   ]
  },
  {
   "cell_type": "code",
   "execution_count": 45,
   "id": "0ad418f1-98ee-4542-ae23-3ef101b291bf",
   "metadata": {},
   "outputs": [
    {
     "data": {
      "text/plain": [
       "[89, 90, 88, 67]"
      ]
     },
     "execution_count": 45,
     "metadata": {},
     "output_type": "execute_result"
    }
   ],
   "source": [
    "list8"
   ]
  },
  {
   "cell_type": "code",
   "execution_count": 46,
   "id": "7697949f-b22b-447e-9bc1-b0dbee45a852",
   "metadata": {},
   "outputs": [],
   "source": [
    "# clear()\n",
    "list8.clear()"
   ]
  },
  {
   "cell_type": "code",
   "execution_count": 47,
   "id": "3b52e52c-2ea8-411b-b16e-a44512059d6d",
   "metadata": {},
   "outputs": [
    {
     "data": {
      "text/plain": [
       "[]"
      ]
     },
     "execution_count": 47,
     "metadata": {},
     "output_type": "execute_result"
    }
   ],
   "source": [
    "list8\n"
   ]
  },
  {
   "cell_type": "code",
   "execution_count": 48,
   "id": "08aab165-1717-460d-a73a-f7d07aac309d",
   "metadata": {},
   "outputs": [],
   "source": [
    "del list7[0]"
   ]
  },
  {
   "cell_type": "code",
   "execution_count": 49,
   "id": "a3124b34-a1f8-41be-87fe-3c23c5c6869f",
   "metadata": {},
   "outputs": [
    {
     "data": {
      "text/plain": [
       "[76, 45, 23, 23, 11, 11, 11]"
      ]
     },
     "execution_count": 49,
     "metadata": {},
     "output_type": "execute_result"
    }
   ],
   "source": [
    "list7"
   ]
  },
  {
   "cell_type": "code",
   "execution_count": null,
   "id": "6dd73b48-e3ad-4df7-b549-39c66329fb6d",
   "metadata": {},
   "outputs": [],
   "source": []
  }
 ],
 "metadata": {
  "kernelspec": {
   "display_name": "Python 3 (ipykernel)",
   "language": "python",
   "name": "python3"
  },
  "language_info": {
   "codemirror_mode": {
    "name": "ipython",
    "version": 3
   },
   "file_extension": ".py",
   "mimetype": "text/x-python",
   "name": "python",
   "nbconvert_exporter": "python",
   "pygments_lexer": "ipython3",
   "version": "3.13.5"
  }
 },
 "nbformat": 4,
 "nbformat_minor": 5
}
