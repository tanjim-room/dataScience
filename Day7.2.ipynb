{
 "cells": [
  {
   "cell_type": "code",
   "execution_count": 2,
   "id": "d751b623-5d22-4ad9-ad78-3dac7f7ab499",
   "metadata": {},
   "outputs": [
    {
     "name": "stdin",
     "output_type": "stream",
     "text": [
      "Enter Unit:  56\n"
     ]
    }
   ],
   "source": [
    "# Conditional Probelm"
   ]
  },
  {
   "cell_type": "code",
   "execution_count": 11,
   "id": "c7001391-9532-4bfc-81ea-9781ec5524d0",
   "metadata": {},
   "outputs": [
    {
     "name": "stdin",
     "output_type": "stream",
     "text": [
      "Enter Unit:  230\n"
     ]
    },
    {
     "name": "stdout",
     "output_type": "stream",
     "text": [
      "Amount is :  800.0\n"
     ]
    }
   ],
   "source": [
    "unit = float(input(\"Enter Unit: \"))\n",
    "if unit <= 100:\n",
    "    print(\"Amount is : No Charge\")\n",
    "elif unit > 100 and unit <= 200:\n",
    "    amt = (unit - 100) * 5\n",
    "    print(\"Amount is : \", amt) \n",
    "elif unit > 200:\n",
    "    amt = 500 + (unit - 200) * 10\n",
    "    print(\"Amount is : \", amt)"
   ]
  },
  {
   "cell_type": "code",
   "execution_count": null,
   "id": "8c84f925-8eeb-4892-adb1-24381e2a8066",
   "metadata": {},
   "outputs": [],
   "source": []
  }
 ],
 "metadata": {
  "kernelspec": {
   "display_name": "Python 3 (ipykernel)",
   "language": "python",
   "name": "python3"
  },
  "language_info": {
   "codemirror_mode": {
    "name": "ipython",
    "version": 3
   },
   "file_extension": ".py",
   "mimetype": "text/x-python",
   "name": "python",
   "nbconvert_exporter": "python",
   "pygments_lexer": "ipython3",
   "version": "3.13.5"
  }
 },
 "nbformat": 4,
 "nbformat_minor": 5
}
