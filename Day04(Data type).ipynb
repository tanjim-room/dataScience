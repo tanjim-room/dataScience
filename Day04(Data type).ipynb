{
 "cells": [
  {
   "cell_type": "code",
   "execution_count": null,
   "id": "83ede0f7-ec2e-4d86-ad42-05a6935279ff",
   "metadata": {},
   "outputs": [],
   "source": [
    "#Data Type\n",
    "#numeric data type = int, float, complex\n",
    "number1 = 10\n",
    "number2 = 30.8\n",
    "number3 = 10+5j\n",
    "type(number1)\n"
   ]
  },
  {
   "cell_type": "code",
   "execution_count": 5,
   "id": "c6c6d6ba-a237-4c1d-91f1-f97320d21548",
   "metadata": {},
   "outputs": [
    {
     "data": {
      "text/plain": [
       "float"
      ]
     },
     "execution_count": 5,
     "metadata": {},
     "output_type": "execute_result"
    }
   ],
   "source": [
    "type(number2)\n"
   ]
  },
  {
   "cell_type": "code",
   "execution_count": null,
   "id": "f8d9690d-7d61-4068-9b24-9acab713c290",
   "metadata": {},
   "outputs": [],
   "source": [
    "type(number3)"
   ]
  },
  {
   "cell_type": "code",
   "execution_count": 11,
   "id": "80450810-b884-4387-a698-85565e35781d",
   "metadata": {},
   "outputs": [
    {
     "data": {
      "text/plain": [
       "True"
      ]
     },
     "execution_count": 11,
     "metadata": {},
     "output_type": "execute_result"
    }
   ],
   "source": [
    "isinstance(number3,complex)"
   ]
  },
  {
   "cell_type": "code",
   "execution_count": 12,
   "id": "45041fda-88d7-4433-926b-a73f8fa10d35",
   "metadata": {},
   "outputs": [
    {
     "data": {
      "text/plain": [
       "False"
      ]
     },
     "execution_count": 12,
     "metadata": {},
     "output_type": "execute_result"
    }
   ],
   "source": [
    "isinstance(20,float)\n"
   ]
  },
  {
   "cell_type": "code",
   "execution_count": 16,
   "id": "54315184-61c8-4e03-8045-41ac99521968",
   "metadata": {},
   "outputs": [
    {
     "data": {
      "text/plain": [
       "int"
      ]
     },
     "execution_count": 16,
     "metadata": {},
     "output_type": "execute_result"
    }
   ],
   "source": [
    "c =10.9\n",
    "n = int(c)\n",
    "type(n)\n",
    "\n"
   ]
  },
  {
   "cell_type": "code",
   "execution_count": 19,
   "id": "e3979e5b-9241-4505-a864-b56cc6794880",
   "metadata": {},
   "outputs": [
    {
     "data": {
      "text/plain": [
       "float"
      ]
     },
     "execution_count": 19,
     "metadata": {},
     "output_type": "execute_result"
    }
   ],
   "source": [
    "t = 12\n",
    "m = float(t)\n",
    "type(m)"
   ]
  },
  {
   "cell_type": "code",
   "execution_count": null,
   "id": "a63cd1a3-87e7-4959-908a-6fd054f3ea53",
   "metadata": {},
   "outputs": [],
   "source": [
    "#Possible int, float =>> complex\n",
    "#Not possible complex =>> int, float"
   ]
  },
  {
   "cell_type": "code",
   "execution_count": null,
   "id": "09d6dc5d-76a9-4f61-83c9-88183cec16f6",
   "metadata": {},
   "outputs": [],
   "source": []
  },
  {
   "cell_type": "code",
   "execution_count": 21,
   "id": "817b388d-7aa7-4afc-accb-b508c3cf1578",
   "metadata": {},
   "outputs": [
    {
     "name": "stdout",
     "output_type": "stream",
     "text": [
      "True\n"
     ]
    },
    {
     "data": {
      "text/plain": [
       "False"
      ]
     },
     "execution_count": 21,
     "metadata": {},
     "output_type": "execute_result"
    }
   ],
   "source": [
    "#Boolean True/False\n",
    "x = True\n",
    "y = False\n",
    "print(x)\n",
    "y"
   ]
  },
  {
   "cell_type": "code",
   "execution_count": null,
   "id": "c49a08ca-8942-4dcb-9fa7-7ebad31e62e5",
   "metadata": {},
   "outputs": [],
   "source": [
    "#Sequence list, tuples == multiple type value store\n",
    "# range, arrays, strings == \n",
    "\n"
   ]
  },
  {
   "cell_type": "code",
   "execution_count": null,
   "id": "31a00163-50bd-4975-981f-5f5f2ac28bba",
   "metadata": {},
   "outputs": [],
   "source": [
    "#Set Frozen set\n",
    "\n"
   ]
  },
  {
   "cell_type": "code",
   "execution_count": null,
   "id": "75d9fae8-cd30-4a91-9d3d-04d51538cbb5",
   "metadata": {},
   "outputs": [],
   "source": [
    "#Mapping Dictionary \n"
   ]
  },
  {
   "cell_type": "code",
   "execution_count": null,
   "id": "e5dc4c1e-d825-4688-b886-fc7cd2e5874f",
   "metadata": {},
   "outputs": [],
   "source": [
    "#Data Frame like a table\n",
    "\n"
   ]
  },
  {
   "cell_type": "code",
   "execution_count": null,
   "id": "dfce16df-4a0e-4d09-95b0-9bab0cb54460",
   "metadata": {},
   "outputs": [],
   "source": [
    "#Binary Type"
   ]
  }
 ],
 "metadata": {
  "kernelspec": {
   "display_name": "Python 3 (ipykernel)",
   "language": "python",
   "name": "python3"
  },
  "language_info": {
   "codemirror_mode": {
    "name": "ipython",
    "version": 3
   },
   "file_extension": ".py",
   "mimetype": "text/x-python",
   "name": "python",
   "nbconvert_exporter": "python",
   "pygments_lexer": "ipython3",
   "version": "3.13.5"
  }
 },
 "nbformat": 4,
 "nbformat_minor": 5
}
