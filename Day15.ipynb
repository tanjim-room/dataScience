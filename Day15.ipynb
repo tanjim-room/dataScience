{
 "cells": [
  {
   "cell_type": "code",
   "execution_count": 6,
   "id": "754b8cbb-5627-4504-b56f-ebac30682144",
   "metadata": {},
   "outputs": [
    {
     "data": {
      "text/plain": [
       "(67, 'Rakib', [2, 4, 5], 78, 90, True)"
      ]
     },
     "execution_count": 6,
     "metadata": {},
     "output_type": "execute_result"
    }
   ],
   "source": [
    "# Tuples  // Cannot change data  // Fast than List // Future key use\n",
    "\n",
    "t = (67, \"Rakib\", [2,4,5], 78, 90, True)\n",
    "t"
   ]
  },
  {
   "cell_type": "code",
   "execution_count": 7,
   "id": "834a6180-4fb0-4da1-b9b1-f47b7b1d37a8",
   "metadata": {},
   "outputs": [
    {
     "name": "stdout",
     "output_type": "stream",
     "text": [
      "67\n",
      "Rakib\n",
      "[2, 4, 5]\n",
      "78\n",
      "90\n",
      "True\n"
     ]
    }
   ],
   "source": [
    "for x in t:\n",
    "    print(x)"
   ]
  },
  {
   "cell_type": "code",
   "execution_count": 8,
   "id": "54913184-cdb6-4880-9f20-d35b32353f24",
   "metadata": {},
   "outputs": [],
   "source": [
    "t2 = (3,5,6,3,7)"
   ]
  },
  {
   "cell_type": "code",
   "execution_count": 9,
   "id": "acf6b409-5d48-4e53-9ac9-3c72993d3313",
   "metadata": {},
   "outputs": [
    {
     "data": {
      "text/plain": [
       "(3, 5, 6, 3, 7)"
      ]
     },
     "execution_count": 9,
     "metadata": {},
     "output_type": "execute_result"
    }
   ],
   "source": [
    "t2"
   ]
  },
  {
   "cell_type": "code",
   "execution_count": 10,
   "id": "08780f8c-730b-4904-894c-afbed72a9b1b",
   "metadata": {},
   "outputs": [
    {
     "data": {
      "text/plain": [
       "7"
      ]
     },
     "execution_count": 10,
     "metadata": {},
     "output_type": "execute_result"
    }
   ],
   "source": [
    "t2[-1]"
   ]
  },
  {
   "cell_type": "code",
   "execution_count": 11,
   "id": "fd7d0d77-53df-4594-8ce6-569b5b65fa9d",
   "metadata": {},
   "outputs": [
    {
     "data": {
      "text/plain": [
       "3"
      ]
     },
     "execution_count": 11,
     "metadata": {},
     "output_type": "execute_result"
    }
   ],
   "source": [
    "t2[3]"
   ]
  },
  {
   "cell_type": "code",
   "execution_count": 12,
   "id": "17c7d304-2ff1-4150-9b1d-866ae3e60500",
   "metadata": {},
   "outputs": [
    {
     "data": {
      "text/plain": [
       "3"
      ]
     },
     "execution_count": 12,
     "metadata": {},
     "output_type": "execute_result"
    }
   ],
   "source": [
    "t2[-2]"
   ]
  },
  {
   "cell_type": "code",
   "execution_count": 13,
   "id": "0dc484b1-ecbf-4c5a-a5c8-9529e6449b38",
   "metadata": {},
   "outputs": [
    {
     "data": {
      "text/plain": [
       "(6, 3)"
      ]
     },
     "execution_count": 13,
     "metadata": {},
     "output_type": "execute_result"
    }
   ],
   "source": [
    "t2[2:4]"
   ]
  },
  {
   "cell_type": "code",
   "execution_count": 14,
   "id": "8b850f92-2dd8-444f-91a9-4fcdc77d2285",
   "metadata": {},
   "outputs": [],
   "source": [
    "t3 = [5,6,7,8,9]\n",
    "t4 = list(t3) "
   ]
  },
  {
   "cell_type": "code",
   "execution_count": 15,
   "id": "db91ab19-bc40-4a58-aae7-1f407772bfaf",
   "metadata": {},
   "outputs": [
    {
     "data": {
      "text/plain": [
       "[5, 6, 7, 8, 9]"
      ]
     },
     "execution_count": 15,
     "metadata": {},
     "output_type": "execute_result"
    }
   ],
   "source": [
    "t4\n"
   ]
  },
  {
   "cell_type": "code",
   "execution_count": 16,
   "id": "1018c442-84d6-443a-a7bc-649f935787bc",
   "metadata": {},
   "outputs": [],
   "source": [
    "t4.append(45)"
   ]
  },
  {
   "cell_type": "code",
   "execution_count": 17,
   "id": "b0a53308-f746-424b-af56-b36869fbb8fa",
   "metadata": {},
   "outputs": [
    {
     "data": {
      "text/plain": [
       "[5, 6, 7, 8, 9, 45]"
      ]
     },
     "execution_count": 17,
     "metadata": {},
     "output_type": "execute_result"
    }
   ],
   "source": [
    "t4"
   ]
  },
  {
   "cell_type": "code",
   "execution_count": 18,
   "id": "82e31ec8-d2f3-4782-a8f6-1330af043c35",
   "metadata": {},
   "outputs": [],
   "source": [
    "t3 = tuple(t4)"
   ]
  },
  {
   "cell_type": "code",
   "execution_count": 19,
   "id": "d16ae4b7-4dbe-4cbc-871a-18f86c2d4ec5",
   "metadata": {},
   "outputs": [
    {
     "data": {
      "text/plain": [
       "(5, 6, 7, 8, 9, 45)"
      ]
     },
     "execution_count": 19,
     "metadata": {},
     "output_type": "execute_result"
    }
   ],
   "source": [
    "t3"
   ]
  },
  {
   "cell_type": "code",
   "execution_count": 22,
   "id": "9c64079c-3ced-4ce2-bd00-d3e76d1c53e9",
   "metadata": {},
   "outputs": [],
   "source": [
    "t5 = tuple([33,76,84,98])"
   ]
  },
  {
   "cell_type": "code",
   "execution_count": 23,
   "id": "576ed993-ab81-425e-8faa-dcc4db6d803b",
   "metadata": {},
   "outputs": [
    {
     "data": {
      "text/plain": [
       "(33, 76, 84, 98)"
      ]
     },
     "execution_count": 23,
     "metadata": {},
     "output_type": "execute_result"
    }
   ],
   "source": [
    "t5"
   ]
  },
  {
   "cell_type": "code",
   "execution_count": 24,
   "id": "e7dea837-f423-4f23-8be9-573b31fbc582",
   "metadata": {},
   "outputs": [
    {
     "data": {
      "text/plain": [
       "(33, 76, 84, 98, 'Rakib', 'sakib')"
      ]
     },
     "execution_count": 24,
     "metadata": {},
     "output_type": "execute_result"
    }
   ],
   "source": [
    "t6 = (\"Rakib\", \"sakib\")\n",
    "t5 + t6"
   ]
  },
  {
   "cell_type": "code",
   "execution_count": 29,
   "id": "2085a0f7-a589-41ed-a099-db8e8f860838",
   "metadata": {},
   "outputs": [
    {
     "data": {
      "text/plain": [
       "tuple"
      ]
     },
     "execution_count": 29,
     "metadata": {},
     "output_type": "execute_result"
    }
   ],
   "source": [
    "t7 = (\"ty\",)\n",
    "type(t7)"
   ]
  },
  {
   "cell_type": "code",
   "execution_count": 30,
   "id": "6dd23c71-3433-4cde-9244-80b448e68f22",
   "metadata": {},
   "outputs": [
    {
     "data": {
      "text/plain": [
       "(1, 7, 4)"
      ]
     },
     "execution_count": 30,
     "metadata": {},
     "output_type": "execute_result"
    }
   ],
   "source": [
    "t8 = 1,7,4\n",
    "t8\n"
   ]
  },
  {
   "cell_type": "code",
   "execution_count": 32,
   "id": "f23f3dce-7724-423c-9791-2709fe44496a",
   "metadata": {},
   "outputs": [
    {
     "data": {
      "text/plain": [
       "tuple"
      ]
     },
     "execution_count": 32,
     "metadata": {},
     "output_type": "execute_result"
    }
   ],
   "source": [
    "t9 = \"p\",\n",
    "type(t9)"
   ]
  },
  {
   "cell_type": "code",
   "execution_count": 33,
   "id": "4511a6f6-98e6-411d-8075-5b481f7ea9da",
   "metadata": {},
   "outputs": [
    {
     "data": {
      "text/plain": [
       "str"
      ]
     },
     "execution_count": 33,
     "metadata": {},
     "output_type": "execute_result"
    }
   ],
   "source": [
    "t9 = \"p\"\n",
    "type(t9)"
   ]
  },
  {
   "cell_type": "code",
   "execution_count": null,
   "id": "c11715ab-6996-403f-bc7b-81a2de0fd085",
   "metadata": {},
   "outputs": [],
   "source": []
  }
 ],
 "metadata": {
  "kernelspec": {
   "display_name": "Python 3 (ipykernel)",
   "language": "python",
   "name": "python3"
  },
  "language_info": {
   "codemirror_mode": {
    "name": "ipython",
    "version": 3
   },
   "file_extension": ".py",
   "mimetype": "text/x-python",
   "name": "python",
   "nbconvert_exporter": "python",
   "pygments_lexer": "ipython3",
   "version": "3.13.5"
  }
 },
 "nbformat": 4,
 "nbformat_minor": 5
}
