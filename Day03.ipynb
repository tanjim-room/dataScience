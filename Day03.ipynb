{
 "cells": [
  {
   "cell_type": "code",
   "execution_count": 1,
   "id": "14feb734-d1db-4e14-ac4c-5b46aaf37abe",
   "metadata": {},
   "outputs": [
    {
     "data": {
      "text/plain": [
       "str"
      ]
     },
     "execution_count": 1,
     "metadata": {},
     "output_type": "execute_result"
    }
   ],
   "source": [
    "#String \n",
    "name = \"Tanjim\"\n",
    "type(name)"
   ]
  },
  {
   "cell_type": "code",
   "execution_count": 2,
   "id": "19fe5395-4417-4d2c-82fa-f08f44339ad3",
   "metadata": {},
   "outputs": [
    {
     "name": "stdout",
     "output_type": "stream",
     "text": [
      "Tanjim\n"
     ]
    }
   ],
   "source": [
    "print(name)"
   ]
  },
  {
   "cell_type": "code",
   "execution_count": 6,
   "id": "2eba848a-c8b0-4bc9-9be8-c7f85314131d",
   "metadata": {},
   "outputs": [
    {
     "name": "stdin",
     "output_type": "stream",
     "text": [
      " 80\n"
     ]
    },
    {
     "data": {
      "text/plain": [
       "str"
      ]
     },
     "execution_count": 6,
     "metadata": {},
     "output_type": "execute_result"
    }
   ],
   "source": [
    "#Input\n",
    "data = input()\n",
    "int(data)\n",
    "type(data)"
   ]
  },
  {
   "cell_type": "code",
   "execution_count": 9,
   "id": "4a11d4e1-b999-400a-8029-ecd0615b7f8d",
   "metadata": {},
   "outputs": [
    {
     "name": "stdin",
     "output_type": "stream",
     "text": [
      " 90 \n",
      " 80\n"
     ]
    }
   ],
   "source": [
    "x = input()\n",
    "y = input()\n"
   ]
  },
  {
   "cell_type": "code",
   "execution_count": 11,
   "id": "9e7ab60d-d4de-4ff7-82ee-85b290999bf3",
   "metadata": {},
   "outputs": [
    {
     "data": {
      "text/plain": [
       "'90 80'"
      ]
     },
     "execution_count": 11,
     "metadata": {},
     "output_type": "execute_result"
    }
   ],
   "source": [
    "x+y"
   ]
  },
  {
   "cell_type": "code",
   "execution_count": 12,
   "id": "4d7d4530-45d0-4177-aaf9-4f3e15c57362",
   "metadata": {},
   "outputs": [],
   "source": [
    "#Type Cast int, float\n",
    "x = int(x)\n",
    "y =int(y)"
   ]
  },
  {
   "cell_type": "code",
   "execution_count": 13,
   "id": "61fcd26e-31a2-4502-83d6-27f3fbae7e1b",
   "metadata": {},
   "outputs": [
    {
     "data": {
      "text/plain": [
       "80"
      ]
     },
     "execution_count": 13,
     "metadata": {},
     "output_type": "execute_result"
    }
   ],
   "source": [
    "x\n",
    "y\n"
   ]
  },
  {
   "cell_type": "code",
   "execution_count": 14,
   "id": "9aca172d-10d6-4164-bdf6-ae8a8abc3589",
   "metadata": {},
   "outputs": [
    {
     "data": {
      "text/plain": [
       "170"
      ]
     },
     "execution_count": 14,
     "metadata": {},
     "output_type": "execute_result"
    }
   ],
   "source": [
    "x+y"
   ]
  },
  {
   "cell_type": "code",
   "execution_count": 15,
   "id": "e3efcd8f-aabb-477e-942d-c3677db60ccc",
   "metadata": {},
   "outputs": [
    {
     "name": "stdin",
     "output_type": "stream",
     "text": [
      "enter:  89\n"
     ]
    }
   ],
   "source": [
    "number = int(input(\"enter: \"))"
   ]
  },
  {
   "cell_type": "code",
   "execution_count": 16,
   "id": "55bdd254-1ed3-4812-97e2-de19963ce33c",
   "metadata": {},
   "outputs": [
    {
     "data": {
      "text/plain": [
       "89"
      ]
     },
     "execution_count": 16,
     "metadata": {},
     "output_type": "execute_result"
    }
   ],
   "source": [
    "number"
   ]
  },
  {
   "cell_type": "code",
   "execution_count": 17,
   "id": "eee6fe24-e4f0-42dd-95b0-dba69cd8d8db",
   "metadata": {},
   "outputs": [
    {
     "data": {
      "text/plain": [
       "int"
      ]
     },
     "execution_count": 17,
     "metadata": {},
     "output_type": "execute_result"
    }
   ],
   "source": [
    "type(number)"
   ]
  },
  {
   "cell_type": "code",
   "execution_count": 18,
   "id": "58ee5f25-0223-4794-be8a-96ff7ac90422",
   "metadata": {},
   "outputs": [
    {
     "data": {
      "text/plain": [
       "10"
      ]
     },
     "execution_count": 18,
     "metadata": {},
     "output_type": "execute_result"
    }
   ],
   "source": [
    "#length of String\n",
    "name = \"Sakib Khan\"\n",
    "len(name)"
   ]
  },
  {
   "cell_type": "code",
   "execution_count": 19,
   "id": "683ee3f9-bb46-4134-a8a2-c4403bb7a2ec",
   "metadata": {},
   "outputs": [
    {
     "data": {
      "text/plain": [
       "51"
      ]
     },
     "execution_count": 19,
     "metadata": {},
     "output_type": "execute_result"
    }
   ],
   "source": [
    "import sys\n",
    "sys.getsizeof(name)"
   ]
  },
  {
   "cell_type": "code",
   "execution_count": 25,
   "id": "e7073d04-5401-4f79-b72e-fff7e18f78b0",
   "metadata": {},
   "outputs": [
    {
     "data": {
      "text/plain": [
       "2"
      ]
     },
     "execution_count": 25,
     "metadata": {},
     "output_type": "execute_result"
    }
   ],
   "source": [
    "# Sub-String\n",
    "#Count\n",
    "\n",
    "key = \"My name is Rakib Rakib\"\n",
    "key.count('Rakib')\n"
   ]
  },
  {
   "cell_type": "code",
   "execution_count": 24,
   "id": "1b1883c7-fc5a-4576-aa55-85babc63062e",
   "metadata": {},
   "outputs": [
    {
     "data": {
      "text/plain": [
       "3"
      ]
     },
     "execution_count": 24,
     "metadata": {},
     "output_type": "execute_result"
    }
   ],
   "source": [
    "key.count('a')"
   ]
  },
  {
   "cell_type": "code",
   "execution_count": null,
   "id": "ee4bf2e4-363e-4125-9e56-855556791e99",
   "metadata": {},
   "outputs": [],
   "source": []
  },
  {
   "cell_type": "code",
   "execution_count": null,
   "id": "10007a21-d31d-4563-8a87-f820e4d190bd",
   "metadata": {},
   "outputs": [],
   "source": []
  },
  {
   "cell_type": "code",
   "execution_count": null,
   "id": "466b7af9-1f8f-40b5-a7ca-7e778f0a1f66",
   "metadata": {},
   "outputs": [],
   "source": []
  }
 ],
 "metadata": {
  "kernelspec": {
   "display_name": "Python 3 (ipykernel)",
   "language": "python",
   "name": "python3"
  },
  "language_info": {
   "codemirror_mode": {
    "name": "ipython",
    "version": 3
   },
   "file_extension": ".py",
   "mimetype": "text/x-python",
   "name": "python",
   "nbconvert_exporter": "python",
   "pygments_lexer": "ipython3",
   "version": "3.13.5"
  }
 },
 "nbformat": 4,
 "nbformat_minor": 5
}
