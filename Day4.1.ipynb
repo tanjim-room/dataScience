{
 "cells": [
  {
   "cell_type": "code",
   "execution_count": 1,
   "id": "cde22e0a-ccb1-4062-9f59-f3186eb1bf94",
   "metadata": {},
   "outputs": [
    {
     "data": {
      "text/plain": [
       "[2, 4, 'Maruf', 2.4, [2, 4, 5]]"
      ]
     },
     "execution_count": 1,
     "metadata": {},
     "output_type": "execute_result"
    }
   ],
   "source": [
    "# Sequence Data Type\n",
    "# List // Can Store Multiple Type Value\n",
    "# [0] first / [-1] last\n",
    "\n",
    " \n",
    "lists = [2, 4, \"Maruf\", 2.4, [2,4,5]]\n",
    "lists\n"
   ]
  },
  {
   "cell_type": "code",
   "execution_count": 2,
   "id": "24990668-0db9-4ece-8264-71071e6b5999",
   "metadata": {},
   "outputs": [
    {
     "data": {
      "text/plain": [
       "2"
      ]
     },
     "execution_count": 2,
     "metadata": {},
     "output_type": "execute_result"
    }
   ],
   "source": [
    "lists[0]\n"
   ]
  },
  {
   "cell_type": "code",
   "execution_count": 3,
   "id": "ec9da262-f9ab-4dd4-af70-e5f32219f462",
   "metadata": {},
   "outputs": [
    {
     "data": {
      "text/plain": [
       "'Maruf'"
      ]
     },
     "execution_count": 3,
     "metadata": {},
     "output_type": "execute_result"
    }
   ],
   "source": [
    "lists[2]"
   ]
  },
  {
   "cell_type": "code",
   "execution_count": 4,
   "id": "3cf73f12-f453-4394-a57b-10315abeab7a",
   "metadata": {},
   "outputs": [
    {
     "data": {
      "text/plain": [
       "[2, 4, 5]"
      ]
     },
     "execution_count": 4,
     "metadata": {},
     "output_type": "execute_result"
    }
   ],
   "source": [
    "lists[-1]"
   ]
  },
  {
   "cell_type": "code",
   "execution_count": 5,
   "id": "afa9fcf6-4b22-4059-a826-b17e0d5d65cf",
   "metadata": {},
   "outputs": [
    {
     "data": {
      "text/plain": [
       "5"
      ]
     },
     "execution_count": 5,
     "metadata": {},
     "output_type": "execute_result"
    }
   ],
   "source": [
    "lists[-1][2]\n"
   ]
  },
  {
   "cell_type": "code",
   "execution_count": 13,
   "id": "cdd63e0e-ef3c-4dc3-b48a-54863d7243d3",
   "metadata": {},
   "outputs": [],
   "source": [
    "# Tuple \n",
    "\n",
    "t = (1,2,[2,4,5], \"Abu\")"
   ]
  },
  {
   "cell_type": "code",
   "execution_count": 9,
   "id": "2db9a7fd-1a84-46cc-9346-b119074c80d4",
   "metadata": {},
   "outputs": [
    {
     "data": {
      "text/plain": [
       "(1, 2, [2, 4, 5])"
      ]
     },
     "execution_count": 9,
     "metadata": {},
     "output_type": "execute_result"
    }
   ],
   "source": [
    "t"
   ]
  },
  {
   "cell_type": "code",
   "execution_count": 10,
   "id": "cb2391cb-ab01-48df-af5d-ea040d581cb8",
   "metadata": {},
   "outputs": [
    {
     "data": {
      "text/plain": [
       "1"
      ]
     },
     "execution_count": 10,
     "metadata": {},
     "output_type": "execute_result"
    }
   ],
   "source": [
    "t[0]"
   ]
  },
  {
   "cell_type": "code",
   "execution_count": 11,
   "id": "b6208306-6d34-439e-a216-6c72bc7ea704",
   "metadata": {},
   "outputs": [
    {
     "data": {
      "text/plain": [
       "[2, 4, 5]"
      ]
     },
     "execution_count": 11,
     "metadata": {},
     "output_type": "execute_result"
    }
   ],
   "source": [
    "t[-1]"
   ]
  },
  {
   "cell_type": "code",
   "execution_count": 12,
   "id": "34480236-7f1a-4bcc-9d1d-57659c016332",
   "metadata": {},
   "outputs": [
    {
     "data": {
      "text/plain": [
       "4"
      ]
     },
     "execution_count": 12,
     "metadata": {},
     "output_type": "execute_result"
    }
   ],
   "source": [
    "t[-1][1]"
   ]
  },
  {
   "cell_type": "code",
   "execution_count": 14,
   "id": "b3c77456-dcf3-4a8f-b8fe-36fd45f3d1bf",
   "metadata": {},
   "outputs": [
    {
     "data": {
      "text/plain": [
       "'Abu'"
      ]
     },
     "execution_count": 14,
     "metadata": {},
     "output_type": "execute_result"
    }
   ],
   "source": [
    "t[-1]"
   ]
  },
  {
   "cell_type": "code",
   "execution_count": 15,
   "id": "11d3e9dd-822a-4fe6-91dd-3ee5a1e5a79f",
   "metadata": {},
   "outputs": [
    {
     "data": {
      "text/plain": [
       "tuple"
      ]
     },
     "execution_count": 15,
     "metadata": {},
     "output_type": "execute_result"
    }
   ],
   "source": [
    "type(t) "
   ]
  },
  {
   "cell_type": "code",
   "execution_count": 17,
   "id": "2d72be6a-4893-4abb-92d4-66e91b554c16",
   "metadata": {},
   "outputs": [
    {
     "data": {
      "text/plain": [
       "{1, 2, 3, 4.5, 'Rakib'}"
      ]
     },
     "execution_count": 17,
     "metadata": {},
     "output_type": "execute_result"
    }
   ],
   "source": [
    "s = {1,2,3,\"Rakib\",4.5}\n",
    "s"
   ]
  },
  {
   "cell_type": "code",
   "execution_count": 26,
   "id": "36cd4222-ab2a-45ac-9526-4eca39e6e25d",
   "metadata": {},
   "outputs": [
    {
     "data": {
      "text/plain": [
       "{'name': 'Rakibo', 'age': '23', 'roll': '26'}"
      ]
     },
     "execution_count": 26,
     "metadata": {},
     "output_type": "execute_result"
    }
   ],
   "source": [
    "d = {\"name\" : \"Rakibo\", \"age\" : \"23\",\"roll\" : \"26\"}\n",
    "d"
   ]
  },
  {
   "cell_type": "code",
   "execution_count": 24,
   "id": "59406624-d283-4b85-84a3-133806b13a99",
   "metadata": {},
   "outputs": [
    {
     "data": {
      "text/plain": [
       "dict_keys(['name'])"
      ]
     },
     "execution_count": 24,
     "metadata": {},
     "output_type": "execute_result"
    }
   ],
   "source": [
    "d.keys()"
   ]
  },
  {
   "cell_type": "code",
   "execution_count": 25,
   "id": "6834637b-5270-4a01-8e96-023d94ccf7d5",
   "metadata": {},
   "outputs": [
    {
     "data": {
      "text/plain": [
       "{'name': 'Rakibo'}"
      ]
     },
     "execution_count": 25,
     "metadata": {},
     "output_type": "execute_result"
    }
   ],
   "source": [
    "d"
   ]
  },
  {
   "cell_type": "code",
   "execution_count": 27,
   "id": "5f367d7d-618f-4056-a89b-bdff4c181590",
   "metadata": {},
   "outputs": [
    {
     "data": {
      "text/plain": [
       "{'name': 'Rakibo', 'age': '23', 'roll': '26'}"
      ]
     },
     "execution_count": 27,
     "metadata": {},
     "output_type": "execute_result"
    }
   ],
   "source": [
    "d"
   ]
  },
  {
   "cell_type": "code",
   "execution_count": 28,
   "id": "d2c4b5dd-127f-4c85-bd11-de4d428dabf2",
   "metadata": {},
   "outputs": [
    {
     "data": {
      "text/plain": [
       "dict_keys(['name', 'age', 'roll'])"
      ]
     },
     "execution_count": 28,
     "metadata": {},
     "output_type": "execute_result"
    }
   ],
   "source": [
    "d.keys()"
   ]
  },
  {
   "cell_type": "code",
   "execution_count": 29,
   "id": "21577dbd-3488-4367-ac42-44e538d65859",
   "metadata": {},
   "outputs": [
    {
     "data": {
      "text/plain": [
       "dict_values(['Rakibo', '23', '26'])"
      ]
     },
     "execution_count": 29,
     "metadata": {},
     "output_type": "execute_result"
    }
   ],
   "source": [
    "d.values()"
   ]
  },
  {
   "cell_type": "code",
   "execution_count": 30,
   "id": "92e4c9fd-a609-45c9-8f1d-3be25c1dd036",
   "metadata": {},
   "outputs": [
    {
     "data": {
      "text/plain": [
       "range(0, 20)"
      ]
     },
     "execution_count": 30,
     "metadata": {},
     "output_type": "execute_result"
    }
   ],
   "source": [
    "range(20)"
   ]
  },
  {
   "cell_type": "code",
   "execution_count": 31,
   "id": "a0c13352-2803-4107-aa57-02bd59517376",
   "metadata": {},
   "outputs": [],
   "source": [
    "x = range(10)\n"
   ]
  },
  {
   "cell_type": "code",
   "execution_count": 32,
   "id": "a07d704e-2378-4e0b-bf55-da868d8ff4b3",
   "metadata": {},
   "outputs": [
    {
     "data": {
      "text/plain": [
       "range(0, 10)"
      ]
     },
     "execution_count": 32,
     "metadata": {},
     "output_type": "execute_result"
    }
   ],
   "source": [
    "x"
   ]
  },
  {
   "cell_type": "code",
   "execution_count": 34,
   "id": "cbf42991-5971-45bb-b1a8-ffd6f1c5c4d7",
   "metadata": {},
   "outputs": [
    {
     "name": "stdout",
     "output_type": "stream",
     "text": [
      "0\n",
      "1\n",
      "2\n",
      "3\n",
      "4\n",
      "5\n",
      "6\n",
      "7\n",
      "8\n",
      "9\n"
     ]
    }
   ],
   "source": [
    "for i in x :\n",
    "    print(i)"
   ]
  },
  {
   "cell_type": "code",
   "execution_count": 35,
   "id": "14091b05-5517-425b-b7ed-6671d7b56e3b",
   "metadata": {},
   "outputs": [
    {
     "data": {
      "text/plain": [
       "range(10, 100)"
      ]
     },
     "execution_count": 35,
     "metadata": {},
     "output_type": "execute_result"
    }
   ],
   "source": [
    "range(10,100)"
   ]
  },
  {
   "cell_type": "code",
   "execution_count": 37,
   "id": "92062303-c5b3-4150-b8f2-52a0dee99f26",
   "metadata": {},
   "outputs": [
    {
     "name": "stdout",
     "output_type": "stream",
     "text": [
      "20\n",
      "22\n",
      "24\n",
      "26\n",
      "28\n",
      "30\n",
      "32\n",
      "34\n",
      "36\n",
      "38\n",
      "40\n",
      "42\n",
      "44\n",
      "46\n",
      "48\n",
      "50\n",
      "52\n",
      "54\n",
      "56\n",
      "58\n",
      "60\n",
      "62\n",
      "64\n",
      "66\n",
      "68\n",
      "70\n",
      "72\n",
      "74\n",
      "76\n",
      "78\n",
      "80\n",
      "82\n",
      "84\n",
      "86\n",
      "88\n",
      "90\n",
      "92\n",
      "94\n",
      "96\n",
      "98\n"
     ]
    }
   ],
   "source": [
    "for i in range(20,100,2):\n",
    "    print(i)"
   ]
  },
  {
   "cell_type": "code",
   "execution_count": 43,
   "id": "aa5a9869-1de6-44db-a72e-dd70050c3c6d",
   "metadata": {},
   "outputs": [
    {
     "name": "stdout",
     "output_type": "stream",
     "text": [
      "100\n",
      "90\n",
      "80\n",
      "70\n",
      "60\n",
      "50\n",
      "40\n",
      "30\n",
      "20\n",
      "10\n"
     ]
    }
   ],
   "source": [
    "for i in range(100,0,-10):\n",
    "    print(i)"
   ]
  },
  {
   "cell_type": "code",
   "execution_count": 4,
   "id": "cc755ec2-fe44-4ecc-8260-f8fdc4dc8ae9",
   "metadata": {},
   "outputs": [],
   "source": [
    "import array as ar\n",
    "a = ar.array(\"i\",[6,9,0,8])\n"
   ]
  },
  {
   "cell_type": "code",
   "execution_count": 8,
   "id": "d9add188-9480-45b8-8e5f-f9377afbb16c",
   "metadata": {},
   "outputs": [],
   "source": [
    "b = ar.array(\"f\", [6.9,9.8])"
   ]
  },
  {
   "cell_type": "code",
   "execution_count": 9,
   "id": "64b1a6cd-c807-4597-b6ed-502e572ea60f",
   "metadata": {},
   "outputs": [
    {
     "data": {
      "text/plain": [
       "array('f', [6.900000095367432, 9.800000190734863])"
      ]
     },
     "execution_count": 9,
     "metadata": {},
     "output_type": "execute_result"
    }
   ],
   "source": [
    "b"
   ]
  },
  {
   "cell_type": "code",
   "execution_count": 10,
   "id": "24783140-f42d-4f34-86ce-9d2fe76a799e",
   "metadata": {},
   "outputs": [],
   "source": [
    "s = \"tork\""
   ]
  },
  {
   "cell_type": "code",
   "execution_count": 11,
   "id": "5d79e6a2-d0da-40d1-bec0-16f2c216ddd6",
   "metadata": {},
   "outputs": [
    {
     "data": {
      "text/plain": [
       "'tork'"
      ]
     },
     "execution_count": 11,
     "metadata": {},
     "output_type": "execute_result"
    }
   ],
   "source": [
    "s"
   ]
  },
  {
   "cell_type": "code",
   "execution_count": 12,
   "id": "c1b306c1-898c-4544-931f-2bf44ca68f80",
   "metadata": {},
   "outputs": [
    {
     "data": {
      "text/plain": [
       "str"
      ]
     },
     "execution_count": 12,
     "metadata": {},
     "output_type": "execute_result"
    }
   ],
   "source": [
    "type(s)"
   ]
  },
  {
   "cell_type": "code",
   "execution_count": 13,
   "id": "d183f6d7-6474-4031-a861-21dd22d3501f",
   "metadata": {},
   "outputs": [],
   "source": [
    "hi = '''\n",
    "i ohj\n",
    "hh\n",
    "ihjh\n",
    "'''"
   ]
  },
  {
   "cell_type": "code",
   "execution_count": 14,
   "id": "56b81b38-bedd-4fe8-b503-6c4ccec7a50f",
   "metadata": {},
   "outputs": [
    {
     "data": {
      "text/plain": [
       "'\\ni ohj\\nhh\\nihjh\\n'"
      ]
     },
     "execution_count": 14,
     "metadata": {},
     "output_type": "execute_result"
    }
   ],
   "source": [
    "hi\n"
   ]
  },
  {
   "cell_type": "code",
   "execution_count": null,
   "id": "c75a35a9-e5a0-4925-adc7-502af19a8f9e",
   "metadata": {},
   "outputs": [],
   "source": []
  }
 ],
 "metadata": {
  "kernelspec": {
   "display_name": "Python 3 (ipykernel)",
   "language": "python",
   "name": "python3"
  },
  "language_info": {
   "codemirror_mode": {
    "name": "ipython",
    "version": 3
   },
   "file_extension": ".py",
   "mimetype": "text/x-python",
   "name": "python",
   "nbconvert_exporter": "python",
   "pygments_lexer": "ipython3",
   "version": "3.13.5"
  }
 },
 "nbformat": 4,
 "nbformat_minor": 5
}
