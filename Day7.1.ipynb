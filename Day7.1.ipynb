{
 "cells": [
  {
   "cell_type": "code",
   "execution_count": 10,
   "id": "7dcbfba3-efc4-45f8-85c6-52c6d6db2b80",
   "metadata": {},
   "outputs": [
    {
     "name": "stdin",
     "output_type": "stream",
     "text": [
      "Enter Length:  4\n",
      "Enter Width:  4\n"
     ]
    }
   ],
   "source": [
    "# Conditional \n",
    "length = int(input(\"Enter Length: \"))\n",
    "width =  int(input(\"Enter Width: \"))"
   ]
  },
  {
   "cell_type": "code",
   "execution_count": 13,
   "id": "d0bd5fe1-1318-4659-8188-3c3bc4f240e5",
   "metadata": {},
   "outputs": [
    {
     "name": "stdin",
     "output_type": "stream",
     "text": [
      "Enter Length:  8\n",
      "Enter Width:  9\n"
     ]
    },
    {
     "name": "stdout",
     "output_type": "stream",
     "text": [
      "Not a Square\n"
     ]
    }
   ],
   "source": [
    "# Conditional \n",
    "length = int(input(\"Enter Length: \"))\n",
    "width =  int(input(\"Enter Width: \"))\n",
    "\n",
    "if length == width:\n",
    "    print(\"Square\")\n",
    "else:\n",
    "    print(\"Not a Square\")\n",
    "    "
   ]
  },
  {
   "cell_type": "code",
   "execution_count": 23,
   "id": "e57fd29f-7c59-4880-b58e-84480dcdd9c8",
   "metadata": {},
   "outputs": [
    {
     "name": "stdin",
     "output_type": "stream",
     "text": [
      "Num1:  1\n",
      "Num2:  2\n",
      "Num3:  1\n"
     ]
    },
    {
     "name": "stdout",
     "output_type": "stream",
     "text": [
      "Num2 is Greatest\n"
     ]
    }
   ],
   "source": [
    "num1 = int(input(\"Num1: \"))\n",
    "num2 = int(input(\"Num2: \"))\n",
    "num3 = int(input(\"Num3: \"))\n",
    "\n",
    "if num1 >= num2 and num1 >= num3:\n",
    "    print(\"Num1 is Greatest\")\n",
    "elif num2 >= num1 and num2 >= num3:\n",
    "    print(\"Num2 is Greatest\")\n",
    "else:\n",
    "    print(\"Num3 is Greatest\")\n"
   ]
  },
  {
   "cell_type": "code",
   "execution_count": 24,
   "id": "626ba315-dcdc-4ab4-bd30-22688a0433d8",
   "metadata": {},
   "outputs": [
    {
     "data": {
      "text/plain": [
       "1"
      ]
     },
     "execution_count": 24,
     "metadata": {},
     "output_type": "execute_result"
    }
   ],
   "source": [
    "1 or 2"
   ]
  },
  {
   "cell_type": "code",
   "execution_count": 25,
   "id": "dce9afc9-afc0-45d0-86e9-a26f5c6f0358",
   "metadata": {},
   "outputs": [
    {
     "data": {
      "text/plain": [
       "2"
      ]
     },
     "execution_count": 25,
     "metadata": {},
     "output_type": "execute_result"
    }
   ],
   "source": [
    "2 & 3"
   ]
  },
  {
   "cell_type": "code",
   "execution_count": 26,
   "id": "67513a35-babf-4e49-a99c-bab151dace6f",
   "metadata": {},
   "outputs": [
    {
     "data": {
      "text/plain": [
       "23"
      ]
     },
     "execution_count": 26,
     "metadata": {},
     "output_type": "execute_result"
    }
   ],
   "source": [
    "23 or 78"
   ]
  },
  {
   "cell_type": "code",
   "execution_count": 32,
   "id": "45397d6f-c6ed-4f45-8099-ff04305030fa",
   "metadata": {},
   "outputs": [
    {
     "name": "stdin",
     "output_type": "stream",
     "text": [
      "Attendtence :  76\n"
     ]
    },
    {
     "name": "stdout",
     "output_type": "stream",
     "text": [
      "Sit\n"
     ]
    }
   ],
   "source": [
    "atd = int(input(\"Attendtence : \"))\n",
    "if atd >= 75:\n",
    "    print(\"Sit\")\n",
    "else:\n",
    "    print(\"Not Sit\")"
   ]
  },
  {
   "cell_type": "code",
   "execution_count": null,
   "id": "863672f1-b0a9-4b46-b510-70bbaa89b7f8",
   "metadata": {},
   "outputs": [],
   "source": []
  }
 ],
 "metadata": {
  "kernelspec": {
   "display_name": "Python 3 (ipykernel)",
   "language": "python",
   "name": "python3"
  },
  "language_info": {
   "codemirror_mode": {
    "name": "ipython",
    "version": 3
   },
   "file_extension": ".py",
   "mimetype": "text/x-python",
   "name": "python",
   "nbconvert_exporter": "python",
   "pygments_lexer": "ipython3",
   "version": "3.13.5"
  }
 },
 "nbformat": 4,
 "nbformat_minor": 5
}
