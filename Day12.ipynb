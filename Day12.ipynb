{
 "cells": [
  {
   "cell_type": "code",
   "execution_count": 9,
   "id": "8aeeb2e7-78b2-4a90-b722-43bf97e2741f",
   "metadata": {},
   "outputs": [
    {
     "data": {
      "text/plain": [
       "list"
      ]
     },
     "execution_count": 9,
     "metadata": {},
     "output_type": "execute_result"
    }
   ],
   "source": [
    "#List in Python\n",
    "# We can change list anytime\n",
    "\n",
    "l1 = [3,4,5,2,4,32,544,64,32,44,54,56,564,33,333]\n",
    "type(l1)"
   ]
  },
  {
   "cell_type": "code",
   "execution_count": 10,
   "id": "c21c387b-c1e0-4237-9caa-edeb7b73b78b",
   "metadata": {},
   "outputs": [
    {
     "data": {
      "text/plain": [
       "[3, 4, 5, 2, 4, 32, 544, 64, 32, 44, 54, 56, 564, 33, 333]"
      ]
     },
     "execution_count": 10,
     "metadata": {},
     "output_type": "execute_result"
    }
   ],
   "source": [
    "l1"
   ]
  },
  {
   "cell_type": "code",
   "execution_count": 11,
   "id": "240899d9-37bd-4866-a6a6-e90abd55fb65",
   "metadata": {},
   "outputs": [
    {
     "data": {
      "text/plain": [
       "[3, 4, 5, 2, 4, 32, 544, 64, 32, 44]"
      ]
     },
     "execution_count": 11,
     "metadata": {},
     "output_type": "execute_result"
    }
   ],
   "source": [
    "l1[0:10]"
   ]
  },
  {
   "cell_type": "code",
   "execution_count": 12,
   "id": "f6c406b0-5707-45ad-8133-80cfa32f7694",
   "metadata": {},
   "outputs": [],
   "source": [
    "l1[0] = \"Rakib\""
   ]
  },
  {
   "cell_type": "code",
   "execution_count": 13,
   "id": "afd552b7-f7df-4662-9510-6f76e670e007",
   "metadata": {},
   "outputs": [
    {
     "data": {
      "text/plain": [
       "['Rakib', 4, 5, 2, 4, 32, 544, 64, 32, 44, 54, 56, 564, 33, 333]"
      ]
     },
     "execution_count": 13,
     "metadata": {},
     "output_type": "execute_result"
    }
   ],
   "source": [
    "l1"
   ]
  },
  {
   "cell_type": "code",
   "execution_count": 14,
   "id": "1cad150a-505a-4c07-8dae-874180e67680",
   "metadata": {},
   "outputs": [],
   "source": [
    "# List Append // Add in Last\n",
    "\n",
    "l1.append(\"Tanjim\")"
   ]
  },
  {
   "cell_type": "code",
   "execution_count": 15,
   "id": "1d0894fc-293e-4b1e-91c1-bf25c10b1fcc",
   "metadata": {},
   "outputs": [
    {
     "data": {
      "text/plain": [
       "['Rakib', 4, 5, 2, 4, 32, 544, 64, 32, 44, 54, 56, 564, 33, 333, 'Tanjim']"
      ]
     },
     "execution_count": 15,
     "metadata": {},
     "output_type": "execute_result"
    }
   ],
   "source": [
    "l1"
   ]
  },
  {
   "cell_type": "code",
   "execution_count": 16,
   "id": "a2d25263-c5ba-44c1-83ab-a4f70041cd1c",
   "metadata": {},
   "outputs": [],
   "source": [
    "l1.append(8)"
   ]
  },
  {
   "cell_type": "code",
   "execution_count": 17,
   "id": "54fdc406-510e-4875-9ef3-42784199a280",
   "metadata": {},
   "outputs": [
    {
     "data": {
      "text/plain": [
       "['Rakib', 4, 5, 2, 4, 32, 544, 64, 32, 44, 54, 56, 564, 33, 333, 'Tanjim', 8]"
      ]
     },
     "execution_count": 17,
     "metadata": {},
     "output_type": "execute_result"
    }
   ],
   "source": [
    "l1"
   ]
  },
  {
   "cell_type": "code",
   "execution_count": 18,
   "id": "732ebc11-3322-4c47-9f9e-12a5535f4c56",
   "metadata": {},
   "outputs": [
    {
     "data": {
      "text/plain": [
       "248"
      ]
     },
     "execution_count": 18,
     "metadata": {},
     "output_type": "execute_result"
    }
   ],
   "source": [
    "import sys\n",
    "sys.getsizeof(l1)"
   ]
  },
  {
   "cell_type": "code",
   "execution_count": 19,
   "id": "4a7430a2-6e62-4a63-b9c3-d57c7c4078e8",
   "metadata": {},
   "outputs": [
    {
     "data": {
      "text/plain": [
       "8"
      ]
     },
     "execution_count": 19,
     "metadata": {},
     "output_type": "execute_result"
    }
   ],
   "source": [
    "l1.pop()"
   ]
  },
  {
   "cell_type": "code",
   "execution_count": 20,
   "id": "649556dd-c2a2-413a-87b7-434640aa6380",
   "metadata": {},
   "outputs": [
    {
     "data": {
      "text/plain": [
       "['Rakib', 4, 5, 2, 4, 32, 544, 64, 32, 44, 54, 56, 564, 33, 333, 'Tanjim']"
      ]
     },
     "execution_count": 20,
     "metadata": {},
     "output_type": "execute_result"
    }
   ],
   "source": [
    "l1"
   ]
  },
  {
   "cell_type": "code",
   "execution_count": 21,
   "id": "364e04f7-c414-4970-9a2c-f6e12fc934cc",
   "metadata": {},
   "outputs": [
    {
     "data": {
      "text/plain": [
       "'Tanjim'"
      ]
     },
     "execution_count": 21,
     "metadata": {},
     "output_type": "execute_result"
    }
   ],
   "source": [
    "l1.pop()"
   ]
  },
  {
   "cell_type": "markdown",
   "id": "e6f237b1-92de-4afa-a939-d7657c83b469",
   "metadata": {},
   "source": [
    "l1"
   ]
  },
  {
   "cell_type": "code",
   "execution_count": 22,
   "id": "005a3ba7-ae92-4351-b88e-c0f034b7af69",
   "metadata": {},
   "outputs": [
    {
     "data": {
      "text/plain": [
       "['Rakib', 4, 5, 2, 4, 32, 544, 64, 32, 44, 54, 56, 564, 33, 333]"
      ]
     },
     "execution_count": 22,
     "metadata": {},
     "output_type": "execute_result"
    }
   ],
   "source": [
    "l1"
   ]
  },
  {
   "cell_type": "code",
   "execution_count": 24,
   "id": "e76b8e7d-8e84-47b3-8878-2fa4c066c405",
   "metadata": {},
   "outputs": [
    {
     "data": {
      "text/plain": [
       "'Rakib'"
      ]
     },
     "execution_count": 24,
     "metadata": {},
     "output_type": "execute_result"
    }
   ],
   "source": [
    "l1.pop(0)"
   ]
  },
  {
   "cell_type": "code",
   "execution_count": 25,
   "id": "5463dc49-2781-4332-aebd-2a7025db700a",
   "metadata": {},
   "outputs": [
    {
     "data": {
      "text/plain": [
       "[4, 5, 2, 4, 32, 544, 64, 32, 44, 54, 56, 564, 33, 333]"
      ]
     },
     "execution_count": 25,
     "metadata": {},
     "output_type": "execute_result"
    }
   ],
   "source": [
    "l1"
   ]
  },
  {
   "cell_type": "code",
   "execution_count": 31,
   "id": "dff12b41-9494-4169-a891-4e8977181066",
   "metadata": {},
   "outputs": [],
   "source": [
    "# Creating List Using List Constructor\n",
    "\n",
    "l2 = list((1,2,3,\"Rkaib\",(2,5,4,3)))"
   ]
  },
  {
   "cell_type": "code",
   "execution_count": 32,
   "id": "df7f7fcb-5bb9-48b1-9bda-59b8b8e23040",
   "metadata": {},
   "outputs": [
    {
     "data": {
      "text/plain": [
       "1"
      ]
     },
     "execution_count": 32,
     "metadata": {},
     "output_type": "execute_result"
    }
   ],
   "source": [
    "l2[0]"
   ]
  },
  {
   "cell_type": "code",
   "execution_count": 33,
   "id": "cf83db01-f7dc-4ad9-b200-00063e6275e9",
   "metadata": {},
   "outputs": [
    {
     "data": {
      "text/plain": [
       "'Rkaib'"
      ]
     },
     "execution_count": 33,
     "metadata": {},
     "output_type": "execute_result"
    }
   ],
   "source": [
    "l2[3]"
   ]
  },
  {
   "cell_type": "code",
   "execution_count": 35,
   "id": "c8292fe5-4647-4730-bd49-33287d03a5ce",
   "metadata": {},
   "outputs": [
    {
     "data": {
      "text/plain": [
       "(2, 5, 4, 3)"
      ]
     },
     "execution_count": 35,
     "metadata": {},
     "output_type": "execute_result"
    }
   ],
   "source": [
    "l2[4]"
   ]
  },
  {
   "cell_type": "code",
   "execution_count": 36,
   "id": "2a2c0488-afc1-40c9-9df1-79e56941d8d6",
   "metadata": {},
   "outputs": [
    {
     "data": {
      "text/plain": [
       "4"
      ]
     },
     "execution_count": 36,
     "metadata": {},
     "output_type": "execute_result"
    }
   ],
   "source": [
    "l2[4][2]"
   ]
  },
  {
   "cell_type": "code",
   "execution_count": 45,
   "id": "b7c9c13f-a085-48b6-86f9-02cd0723df37",
   "metadata": {},
   "outputs": [
    {
     "name": "stdin",
     "output_type": "stream",
     "text": [
      "Enter a number:  5\n",
      " a\n"
     ]
    },
    {
     "name": "stdout",
     "output_type": "stream",
     "text": [
      "['a']\n"
     ]
    },
    {
     "name": "stdin",
     "output_type": "stream",
     "text": [
      " b\n"
     ]
    },
    {
     "name": "stdout",
     "output_type": "stream",
     "text": [
      "['a', 'b']\n"
     ]
    },
    {
     "name": "stdin",
     "output_type": "stream",
     "text": [
      " c\n"
     ]
    },
    {
     "name": "stdout",
     "output_type": "stream",
     "text": [
      "['a', 'b', 'c']\n"
     ]
    },
    {
     "name": "stdin",
     "output_type": "stream",
     "text": [
      " d\n"
     ]
    },
    {
     "name": "stdout",
     "output_type": "stream",
     "text": [
      "['a', 'b', 'c', 'd']\n"
     ]
    },
    {
     "name": "stdin",
     "output_type": "stream",
     "text": [
      " e\n"
     ]
    },
    {
     "name": "stdout",
     "output_type": "stream",
     "text": [
      "['a', 'b', 'c', 'd', 'e']\n"
     ]
    }
   ],
   "source": [
    "# List Input From User\n",
    "l3 = []\n",
    "index = int(input(\"Enter a number: \"))\n",
    "for i in range(index):\n",
    "    new = input()\n",
    "    l3.append(new)\n",
    "    print(l3)\n",
    "    "
   ]
  },
  {
   "cell_type": "code",
   "execution_count": null,
   "id": "a7187746-5505-4ea2-901c-ceb43a5d4ee3",
   "metadata": {},
   "outputs": [],
   "source": []
  }
 ],
 "metadata": {
  "kernelspec": {
   "display_name": "Python 3 (ipykernel)",
   "language": "python",
   "name": "python3"
  },
  "language_info": {
   "codemirror_mode": {
    "name": "ipython",
    "version": 3
   },
   "file_extension": ".py",
   "mimetype": "text/x-python",
   "name": "python",
   "nbconvert_exporter": "python",
   "pygments_lexer": "ipython3",
   "version": "3.13.5"
  }
 },
 "nbformat": 4,
 "nbformat_minor": 5
}
